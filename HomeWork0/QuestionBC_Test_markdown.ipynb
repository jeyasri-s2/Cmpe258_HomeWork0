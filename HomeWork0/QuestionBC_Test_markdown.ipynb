{
  "nbformat": 4,
  "nbformat_minor": 0,
  "metadata": {
    "colab": {
      "name": "Untitled1.ipynb",
      "provenance": [],
      "authorship_tag": "ABX9TyN8V9sFE19xTnSNXGnd/BSe",
      "include_colab_link": true
    },
    "kernelspec": {
      "name": "python3",
      "display_name": "Python 3"
    }
  },
  "cells": [
    {
      "cell_type": "markdown",
      "metadata": {
        "id": "view-in-github",
        "colab_type": "text"
      },
      "source": [
        "<a href=\"https://colab.research.google.com/github/jeyasris2/Cmpe258_HomeWork0/blob/master/Test_markdown.ipynb\" target=\"_parent\"><img src=\"https://colab.research.google.com/assets/colab-badge.svg\" alt=\"Open In Colab\"/></a>"
      ]
    },
    {
      "cell_type": "markdown",
      "metadata": {
        "id": "Sx05CzW2LkkR",
        "colab_type": "text"
      },
      "source": [
        "**Text markdown for bold**"
      ]
    },
    {
      "cell_type": "markdown",
      "metadata": {
        "id": "j8MLQf2ZL0MF",
        "colab_type": "text"
      },
      "source": [
        "***Text markdown for bold italic***"
      ]
    },
    {
      "cell_type": "markdown",
      "metadata": {
        "id": "x6BSkM-4L5s-",
        "colab_type": "text"
      },
      "source": [
        "~Text markdown for strikethrough~"
      ]
    },
    {
      "cell_type": "markdown",
      "metadata": {
        "id": "XH2vP30ALnq3",
        "colab_type": "text"
      },
      "source": [
        "`test markdown for inline`"
      ]
    },
    {
      "cell_type": "markdown",
      "metadata": {
        "id": "q-7NiRjhLxBP",
        "colab_type": "text"
      },
      "source": [
        "*Text markdown for italic* "
      ]
    },
    {
      "cell_type": "code",
      "metadata": {
        "id": "DctJuQzPMADx",
        "colab_type": "code",
        "colab": {
          "base_uri": "https://localhost:8080/",
          "height": 34
        },
        "outputId": "e39eee74-0cb1-428e-b267-7b2073ba8a46"
      },
      "source": [
        "1+1"
      ],
      "execution_count": 2,
      "outputs": [
        {
          "output_type": "execute_result",
          "data": {
            "text/plain": [
              "2"
            ]
          },
          "metadata": {
            "tags": []
          },
          "execution_count": 2
        }
      ]
    }
  ]
}