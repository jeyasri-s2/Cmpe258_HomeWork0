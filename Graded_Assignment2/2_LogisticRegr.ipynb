{
  "nbformat": 4,
  "nbformat_minor": 0,
  "metadata": {
    "colab": {
      "name": "2_LogisticRegr.ipynb",
      "provenance": []
    },
    "kernelspec": {
      "name": "python3",
      "display_name": "Python 3"
    }
  },
  "cells": [
    {
      "cell_type": "markdown",
      "metadata": {
        "id": "Lg89pd69t0Cj",
        "colab_type": "text"
      },
      "source": [
        "# Load data"
      ]
    },
    {
      "cell_type": "code",
      "metadata": {
        "id": "0HBh03-MVtFq",
        "colab_type": "code",
        "colab": {}
      },
      "source": [
        "!wget https://archive.ics.uci.edu/ml/machine-learning-databases/undocumented/connectionist-bench/sonar/sonar.all-data \\\n",
        "    -O sonar.csv &> /dev/null"
      ],
      "execution_count": 0,
      "outputs": []
    },
    {
      "cell_type": "code",
      "metadata": {
        "id": "uGyv0Up0WBKn",
        "colab_type": "code",
        "colab": {}
      },
      "source": [
        "import pandas as pd\n",
        "import numpy as np\n",
        "from keras.models import Sequential\n",
        "from keras.layers import Dense\n",
        "from keras.wrappers.scikit_learn import KerasClassifier\n",
        "\n",
        "from sklearn.model_selection import cross_val_score\n",
        "from sklearn.preprocessing import LabelEncoder\n",
        "from sklearn.model_selection import StratifiedKFold\n",
        "from sklearn.preprocessing import StandardScaler\n",
        "from sklearn.pipeline import Pipeline\n",
        "\n",
        "import matplotlib.pyplot as plt\n"
      ],
      "execution_count": 0,
      "outputs": []
    },
    {
      "cell_type": "code",
      "metadata": {
        "id": "CoHFogqxXs7j",
        "colab_type": "code",
        "colab": {}
      },
      "source": [
        "dataframe = pd.read_csv(\"sonar.csv\", header=None)\n",
        "dataset = dataframe.values\n",
        "# split into input (X) and output (Y) variables\n",
        "X = dataset[:,0:60].astype(float)\n",
        "Y = dataset[:,60]"
      ],
      "execution_count": 0,
      "outputs": []
    },
    {
      "cell_type": "code",
      "metadata": {
        "id": "912gAecSXoEb",
        "colab_type": "code",
        "outputId": "87a483bc-92ef-4f52-82ae-8ea076beae1f",
        "colab": {
          "base_uri": "https://localhost:8080/",
          "height": 34
        }
      },
      "source": [
        "encoder = LabelEncoder()\n",
        "encoder.fit(Y)\n",
        "encoded_Y = encoder.transform(Y)\n",
        "encoded_Y.shape"
      ],
      "execution_count": 0,
      "outputs": [
        {
          "output_type": "execute_result",
          "data": {
            "text/plain": [
              "(208,)"
            ]
          },
          "metadata": {
            "tags": []
          },
          "execution_count": 32
        }
      ]
    },
    {
      "cell_type": "code",
      "metadata": {
        "id": "oAREGb7wZDlN",
        "colab_type": "code",
        "outputId": "14930e07-c338-4a32-91a4-98eecf5e55d6",
        "colab": {
          "base_uri": "https://localhost:8080/",
          "height": 34
        }
      },
      "source": [
        "le=LabelEncoder()\n",
        "Y1=le.fit_transform(Y)\n",
        "print( Y1.shape)"
      ],
      "execution_count": 0,
      "outputs": [
        {
          "output_type": "stream",
          "text": [
            "(208,)\n"
          ],
          "name": "stdout"
        }
      ]
    },
    {
      "cell_type": "code",
      "metadata": {
        "id": "S1iYrBHBW8h7",
        "colab_type": "code",
        "colab": {}
      },
      "source": [
        "from sklearn.model_selection import train_test_split\n"
      ],
      "execution_count": 0,
      "outputs": []
    },
    {
      "cell_type": "code",
      "metadata": {
        "id": "CgAs7oOaXg9u",
        "colab_type": "code",
        "colab": {}
      },
      "source": [
        "seed = 7\n",
        "np.random.seed(seed)"
      ],
      "execution_count": 0,
      "outputs": []
    },
    {
      "cell_type": "code",
      "metadata": {
        "id": "QKe6A3-AWW2o",
        "colab_type": "code",
        "colab": {}
      },
      "source": [
        "X_train,X_test,Y_train,Y_test=train_test_split(X,encoded_Y,test_size=0.25,random_state=42)\n"
      ],
      "execution_count": 0,
      "outputs": []
    },
    {
      "cell_type": "code",
      "metadata": {
        "id": "dNQCDmZfW-P8",
        "colab_type": "code",
        "outputId": "f2665453-4cc9-4fd5-964f-0b031679ddf3",
        "colab": {
          "base_uri": "https://localhost:8080/",
          "height": 85
        }
      },
      "source": [
        "print(X_train.shape)\n",
        "print(Y_train.shape)\n",
        "print(X_test.shape)\n",
        "print(Y_test.shape)"
      ],
      "execution_count": 0,
      "outputs": [
        {
          "output_type": "stream",
          "text": [
            "(156, 60)\n",
            "(156,)\n",
            "(52, 60)\n",
            "(52,)\n"
          ],
          "name": "stdout"
        }
      ]
    },
    {
      "cell_type": "code",
      "metadata": {
        "id": "35MRTudqXGix",
        "colab_type": "code",
        "colab": {}
      },
      "source": [
        "import numpy as np\n",
        "from keras.models import Sequential\n",
        "from keras.layers import Dense\n",
        "from keras.regularizers import L1L2"
      ],
      "execution_count": 0,
      "outputs": []
    },
    {
      "cell_type": "markdown",
      "metadata": {
        "id": "cgbrK1aqt-PV",
        "colab_type": "text"
      },
      "source": [
        "# Train model with single layer logistic regression"
      ]
    },
    {
      "cell_type": "code",
      "metadata": {
        "id": "1IAs-bn6bBBB",
        "colab_type": "code",
        "colab": {}
      },
      "source": [
        "model = Sequential({\n",
        "Dense(1, input_shape=(60,), activation='sigmoid')\n",
        "})"
      ],
      "execution_count": 0,
      "outputs": []
    },
    {
      "cell_type": "code",
      "metadata": {
        "id": "hf96vEhfbK_T",
        "colab_type": "code",
        "colab": {}
      },
      "source": [
        "model.compile(optimizer='sgd', loss='binary_crossentropy', metrics=['binary_accuracy'])\n",
        "\n"
      ],
      "execution_count": 0,
      "outputs": []
    },
    {
      "cell_type": "code",
      "metadata": {
        "id": "OZyM8nxObPmY",
        "colab_type": "code",
        "outputId": "1673405c-c12e-4d07-caa8-438ccbe220b2",
        "colab": {
          "base_uri": "https://localhost:8080/",
          "height": 734
        }
      },
      "source": [
        "history = model.fit(X_train, Y_train, epochs=20, validation_data=(X_test, Y_test))"
      ],
      "execution_count": 0,
      "outputs": [
        {
          "output_type": "stream",
          "text": [
            "Train on 156 samples, validate on 52 samples\n",
            "Epoch 1/20\n",
            "156/156 [==============================] - 0s 454us/step - loss: 4.4882 - binary_accuracy: 0.5064 - val_loss: 0.7045 - val_binary_accuracy: 0.5000\n",
            "Epoch 2/20\n",
            "156/156 [==============================] - 0s 83us/step - loss: 0.7253 - binary_accuracy: 0.5128 - val_loss: 0.6974 - val_binary_accuracy: 0.5385\n",
            "Epoch 3/20\n",
            "156/156 [==============================] - 0s 71us/step - loss: 0.7221 - binary_accuracy: 0.5192 - val_loss: 0.6893 - val_binary_accuracy: 0.5962\n",
            "Epoch 4/20\n",
            "156/156 [==============================] - 0s 65us/step - loss: 0.7206 - binary_accuracy: 0.5192 - val_loss: 0.6881 - val_binary_accuracy: 0.5577\n",
            "Epoch 5/20\n",
            "156/156 [==============================] - 0s 81us/step - loss: 0.7157 - binary_accuracy: 0.5449 - val_loss: 0.6824 - val_binary_accuracy: 0.5577\n",
            "Epoch 6/20\n",
            "156/156 [==============================] - 0s 74us/step - loss: 0.7077 - binary_accuracy: 0.5321 - val_loss: 0.6752 - val_binary_accuracy: 0.5962\n",
            "Epoch 7/20\n",
            "156/156 [==============================] - 0s 67us/step - loss: 0.7052 - binary_accuracy: 0.5256 - val_loss: 0.6701 - val_binary_accuracy: 0.6154\n",
            "Epoch 8/20\n",
            "156/156 [==============================] - 0s 99us/step - loss: 0.7007 - binary_accuracy: 0.5449 - val_loss: 0.6699 - val_binary_accuracy: 0.5769\n",
            "Epoch 9/20\n",
            "156/156 [==============================] - 0s 75us/step - loss: 0.6978 - binary_accuracy: 0.5449 - val_loss: 0.6610 - val_binary_accuracy: 0.6346\n",
            "Epoch 10/20\n",
            "156/156 [==============================] - 0s 74us/step - loss: 0.7011 - binary_accuracy: 0.5449 - val_loss: 0.6565 - val_binary_accuracy: 0.6538\n",
            "Epoch 11/20\n",
            "156/156 [==============================] - 0s 74us/step - loss: 0.6960 - binary_accuracy: 0.5449 - val_loss: 0.6538 - val_binary_accuracy: 0.6346\n",
            "Epoch 12/20\n",
            "156/156 [==============================] - 0s 72us/step - loss: 0.6880 - binary_accuracy: 0.5513 - val_loss: 0.6471 - val_binary_accuracy: 0.6538\n",
            "Epoch 13/20\n",
            "156/156 [==============================] - 0s 76us/step - loss: 0.6848 - binary_accuracy: 0.5705 - val_loss: 0.6468 - val_binary_accuracy: 0.6346\n",
            "Epoch 14/20\n",
            "156/156 [==============================] - 0s 74us/step - loss: 0.6822 - binary_accuracy: 0.5641 - val_loss: 0.6435 - val_binary_accuracy: 0.6346\n",
            "Epoch 15/20\n",
            "156/156 [==============================] - 0s 71us/step - loss: 0.6801 - binary_accuracy: 0.5513 - val_loss: 0.6349 - val_binary_accuracy: 0.6538\n",
            "Epoch 16/20\n",
            "156/156 [==============================] - 0s 100us/step - loss: 0.6759 - binary_accuracy: 0.5769 - val_loss: 0.6326 - val_binary_accuracy: 0.6923\n",
            "Epoch 17/20\n",
            "156/156 [==============================] - 0s 73us/step - loss: 0.6743 - binary_accuracy: 0.5769 - val_loss: 0.6245 - val_binary_accuracy: 0.6731\n",
            "Epoch 18/20\n",
            "156/156 [==============================] - 0s 101us/step - loss: 0.6716 - binary_accuracy: 0.5897 - val_loss: 0.6220 - val_binary_accuracy: 0.6731\n",
            "Epoch 19/20\n",
            "156/156 [==============================] - 0s 93us/step - loss: 0.6681 - binary_accuracy: 0.5833 - val_loss: 0.6184 - val_binary_accuracy: 0.7115\n",
            "Epoch 20/20\n",
            "156/156 [==============================] - 0s 94us/step - loss: 0.6666 - binary_accuracy: 0.5833 - val_loss: 0.6206 - val_binary_accuracy: 0.6731\n"
          ],
          "name": "stdout"
        }
      ]
    },
    {
      "cell_type": "code",
      "metadata": {
        "id": "DwDalERkbb14",
        "colab_type": "code",
        "outputId": "19e284d2-2dfa-4a2d-e9d7-88fcf7a9f595",
        "colab": {
          "base_uri": "https://localhost:8080/",
          "height": 577
        }
      },
      "source": [
        "# plotting the metrics\n",
        "fig = plt.figure()\n",
        "plt.subplot(2,1,1)\n",
        "plt.plot(history.history['binary_accuracy'])\n",
        "plt.plot(history.history['val_binary_accuracy'])\n",
        "plt.title('model accuracy')\n",
        "plt.ylabel('accuracy')\n",
        "plt.xlabel('epoch')\n",
        "plt.legend(['train', 'test'], loc='lower right')\n",
        "\n",
        "plt.subplot(2,1,2)\n",
        "plt.plot(history.history['loss'])\n",
        "plt.plot(history.history['val_loss'])\n",
        "plt.title('model loss')\n",
        "plt.ylabel('loss')\n",
        "plt.xlabel('epoch')\n",
        "plt.legend(['train', 'test'], loc='upper right')\n",
        "\n",
        "plt.tight_layout()\n",
        "\n",
        "fig"
      ],
      "execution_count": 0,
      "outputs": [
        {
          "output_type": "execute_result",
          "data": {
            "image/png": "[encoded data removed]",
            "text/plain": [
              "<Figure size 432x288 with 2 Axes>"
            ]
          },
          "metadata": {
            "tags": []
          },
          "execution_count": 106
        },
        {
          "output_type": "display_data",
          "data": {
            "image/png": "[encoded data removed]",
            "text/plain": [
              "<Figure size 432x288 with 2 Axes>"
            ]
          },
          "metadata": {
            "tags": [],
            "needs_background": "light"
          }
        }
      ]
    },
    {
      "cell_type": "code",
      "metadata": {
        "id": "Njx6OsHEdRJd",
        "colab_type": "code",
        "outputId": "c76c72bb-cb0f-47ae-a46f-9f6fa394ea3f",
        "colab": {
          "base_uri": "https://localhost:8080/",
          "height": 428
        }
      },
      "source": [
        "# 1-dimensional MSE linear regression in Keras\n",
        "model = Sequential()\n",
        "model.add(Dense(1, input_dim=X_train.shape[1]))\n",
        "model.compile(optimizer='rmsprop', loss='mse')\n",
        "history1 = model.fit(X_train, Y_train, nb_epoch=10, validation_data=(X_test, Y_test))\n",
        "\n",
        "\n",
        "\n"
      ],
      "execution_count": 0,
      "outputs": [
        {
          "output_type": "stream",
          "text": [
            "Train on 156 samples, validate on 52 samples\n",
            "Epoch 1/10\n",
            "\r 32/156 [=====>........................] - ETA: 0s - loss: 0.2547"
          ],
          "name": "stdout"
        },
        {
          "output_type": "stream",
          "text": [
            "/usr/local/lib/python3.6/dist-packages/ipykernel_launcher.py:4: UserWarning: The `nb_epoch` argument in `fit` has been renamed `epochs`.\n",
            "  after removing the cwd from sys.path.\n"
          ],
          "name": "stderr"
        },
        {
          "output_type": "stream",
          "text": [
            "156/156 [==============================] - 0s 299us/step - loss: 0.2801 - val_loss: 0.2581\n",
            "Epoch 2/10\n",
            "156/156 [==============================] - 0s 53us/step - loss: 0.2734 - val_loss: 0.2523\n",
            "Epoch 3/10\n",
            "156/156 [==============================] - 0s 56us/step - loss: 0.2711 - val_loss: 0.2484\n",
            "Epoch 4/10\n",
            "156/156 [==============================] - 0s 53us/step - loss: 0.2694 - val_loss: 0.2449\n",
            "Epoch 5/10\n",
            "156/156 [==============================] - 0s 63us/step - loss: 0.2650 - val_loss: 0.2422\n",
            "Epoch 6/10\n",
            "156/156 [==============================] - 0s 63us/step - loss: 0.2638 - val_loss: 0.2394\n",
            "Epoch 7/10\n",
            "156/156 [==============================] - 0s 63us/step - loss: 0.2620 - val_loss: 0.2366\n",
            "Epoch 8/10\n",
            "156/156 [==============================] - 0s 84us/step - loss: 0.2614 - val_loss: 0.2343\n",
            "Epoch 9/10\n",
            "156/156 [==============================] - 0s 74us/step - loss: 0.2583 - val_loss: 0.2322\n",
            "Epoch 10/10\n",
            "156/156 [==============================] - 0s 66us/step - loss: 0.2564 - val_loss: 0.2305\n"
          ],
          "name": "stdout"
        }
      ]
    },
    {
      "cell_type": "code",
      "metadata": {
        "id": "sJHYgOD0ddJp",
        "colab_type": "code",
        "outputId": "007eeb4d-b334-4541-df7c-fbd35d115681",
        "colab": {
          "base_uri": "https://localhost:8080/",
          "height": 297
        }
      },
      "source": [
        "# plotting the metrics\n",
        "fig = plt.figure()\n",
        "# plt.subplot(2,1,1)\n",
        "# plt.plot(history1.history['binary_accuracy'])\n",
        "# plt.plot(history1.history['val_binary_accuracy'])\n",
        "# plt.title('model accuracy')\n",
        "# plt.ylabel('accuracy')\n",
        "# plt.xlabel('epoch')\n",
        "# plt.legend(['train', 'test'], loc='lower right')\n",
        "\n",
        "#plt.subplot(2,1,2)\n",
        "plt.plot(history1.history['loss'])\n",
        "plt.plot(history1.history['val_loss'])\n",
        "plt.title('model loss')\n",
        "plt.ylabel('loss')\n",
        "plt.xlabel('epoch')\n",
        "plt.legend(['train', 'test'], loc='upper right')\n",
        "\n",
        "plt.tight_layout()\n",
        "\n",
        "#fig"
      ],
      "execution_count": 0,
      "outputs": [
        {
          "output_type": "display_data",
          "data": {
            "image/png": "[encoded data removed]",
            "text/plain": [
              "<Figure size 432x288 with 1 Axes>"
            ]
          },
          "metadata": {
            "tags": [],
            "needs_background": "light"
          }
        }
      ]
    },
    {
      "cell_type": "code",
      "metadata": {
        "id": "TQLUfISCdRHF",
        "colab_type": "code",
        "outputId": "35f5064c-2463-417f-bb60-122cfcb26061",
        "colab": {
          "base_uri": "https://localhost:8080/",
          "height": 408
        }
      },
      "source": [
        "# 2-class logistic regression in Keras\n",
        "model = Sequential()\n",
        "model.add(Dense(1, activation='sigmoid', input_dim=X_train.shape[1]))\n",
        "model.compile(optimizer='rmsprop', loss='binary_crossentropy')\n",
        "history2 = model.fit(X_train, Y_train, nb_epoch=10, validation_data=(X_test, Y_test))"
      ],
      "execution_count": 0,
      "outputs": [
        {
          "output_type": "stream",
          "text": [
            "/usr/local/lib/python3.6/dist-packages/ipykernel_launcher.py:4: UserWarning: The `nb_epoch` argument in `fit` has been renamed `epochs`.\n",
            "  after removing the cwd from sys.path.\n"
          ],
          "name": "stderr"
        },
        {
          "output_type": "stream",
          "text": [
            "Train on 156 samples, validate on 52 samples\n",
            "Epoch 1/10\n",
            "156/156 [==============================] - 0s 390us/step - loss: 0.6637 - val_loss: 0.6722\n",
            "Epoch 2/10\n",
            "156/156 [==============================] - 0s 62us/step - loss: 0.6615 - val_loss: 0.6693\n",
            "Epoch 3/10\n",
            "156/156 [==============================] - 0s 63us/step - loss: 0.6597 - val_loss: 0.6670\n",
            "Epoch 4/10\n",
            "156/156 [==============================] - 0s 65us/step - loss: 0.6585 - val_loss: 0.6644\n",
            "Epoch 5/10\n",
            "156/156 [==============================] - 0s 77us/step - loss: 0.6567 - val_loss: 0.6622\n",
            "Epoch 6/10\n",
            "156/156 [==============================] - 0s 67us/step - loss: 0.6563 - val_loss: 0.6606\n",
            "Epoch 7/10\n",
            "156/156 [==============================] - 0s 67us/step - loss: 0.6549 - val_loss: 0.6584\n",
            "Epoch 8/10\n",
            "156/156 [==============================] - 0s 67us/step - loss: 0.6538 - val_loss: 0.6561\n",
            "Epoch 9/10\n",
            "156/156 [==============================] - 0s 70us/step - loss: 0.6526 - val_loss: 0.6542\n",
            "Epoch 10/10\n",
            "156/156 [==============================] - 0s 73us/step - loss: 0.6518 - val_loss: 0.6520\n"
          ],
          "name": "stdout"
        }
      ]
    },
    {
      "cell_type": "code",
      "metadata": {
        "id": "41b5gVRHdREd",
        "colab_type": "code",
        "outputId": "2c9296d1-62c7-46d9-94d3-a8fb05143035",
        "colab": {
          "base_uri": "https://localhost:8080/",
          "height": 297
        }
      },
      "source": [
        "# plotting the metrics\n",
        "# fig = plt.figure()\n",
        "# plt.subplot(2,1,1)\n",
        "# plt.plot(history2.history['binary_accuracy'])\n",
        "# plt.plot(history2.history['val_binary_accuracy'])\n",
        "# plt.title('model accuracy')\n",
        "# plt.ylabel('accuracy')\n",
        "# plt.xlabel('epoch')\n",
        "# plt.legend(['train', 'test'], loc='lower right')\n",
        "\n",
        "#plt.subplot(2,1,2)\n",
        "plt.plot(history2.history['loss'])\n",
        "plt.plot(history2.history['val_loss'])\n",
        "plt.title('model loss')\n",
        "plt.ylabel('loss')\n",
        "plt.xlabel('epoch')\n",
        "plt.legend(['train', 'test'], loc='upper right')\n",
        "\n",
        "plt.tight_layout()\n",
        "\n",
        "#fig"
      ],
      "execution_count": 0,
      "outputs": [
        {
          "output_type": "display_data",
          "data": {
            "image/png": "[encoded data removed]",
            "text/plain": [
              "<Figure size 432x288 with 1 Axes>"
            ]
          },
          "metadata": {
            "tags": [],
            "needs_background": "light"
          }
        }
      ]
    },
    {
      "cell_type": "code",
      "metadata": {
        "id": "I3Prgy4UdRBQ",
        "colab_type": "code",
        "outputId": "f9c622ac-3ac7-4f2c-dffb-dad49e8660a7",
        "colab": {
          "base_uri": "https://localhost:8080/",
          "height": 462
        }
      },
      "source": [
        "# logistic regression with L1 and L2 regularization\n",
        "from keras.regularizers import L1L2\n",
        "\n",
        "reg = L1L2(l1=0.01, l2=0.01)\n",
        "\n",
        "model = Sequential()\n",
        "model.add(Dense(1, activation='sigmoid', W_regularizer=reg, input_dim=X_train.shape[1]))\n",
        "model.compile(optimizer='rmsprop', loss='binary_crossentropy')\n",
        "history3 = model.fit(X_train, Y_train, nb_epoch=10, validation_data=(X_test, Y_test))"
      ],
      "execution_count": 0,
      "outputs": [
        {
          "output_type": "stream",
          "text": [
            "/usr/local/lib/python3.6/dist-packages/ipykernel_launcher.py:6: UserWarning: Update your `Dense` call to the Keras 2 API: `Dense(1, activation=\"sigmoid\", input_dim=60, kernel_regularizer=<keras.reg...)`\n",
            "  \n",
            "/usr/local/lib/python3.6/dist-packages/ipykernel_launcher.py:8: UserWarning: The `nb_epoch` argument in `fit` has been renamed `epochs`.\n",
            "  \n"
          ],
          "name": "stderr"
        },
        {
          "output_type": "stream",
          "text": [
            "Train on 156 samples, validate on 52 samples\n",
            "Epoch 1/10\n",
            "156/156 [==============================] - 0s 392us/step - loss: 0.8496 - val_loss: 0.8995\n",
            "Epoch 2/10\n",
            "156/156 [==============================] - 0s 73us/step - loss: 0.8378 - val_loss: 0.8869\n",
            "Epoch 3/10\n",
            "156/156 [==============================] - 0s 75us/step - loss: 0.8302 - val_loss: 0.8769\n",
            "Epoch 4/10\n",
            "156/156 [==============================] - 0s 62us/step - loss: 0.8239 - val_loss: 0.8683\n",
            "Epoch 5/10\n",
            "156/156 [==============================] - 0s 61us/step - loss: 0.8186 - val_loss: 0.8601\n",
            "Epoch 6/10\n",
            "156/156 [==============================] - 0s 77us/step - loss: 0.8142 - val_loss: 0.8537\n",
            "Epoch 7/10\n",
            "156/156 [==============================] - 0s 62us/step - loss: 0.8097 - val_loss: 0.8476\n",
            "Epoch 8/10\n",
            "156/156 [==============================] - 0s 75us/step - loss: 0.8064 - val_loss: 0.8414\n",
            "Epoch 9/10\n",
            "156/156 [==============================] - 0s 90us/step - loss: 0.8020 - val_loss: 0.8358\n",
            "Epoch 10/10\n",
            "156/156 [==============================] - 0s 64us/step - loss: 0.7985 - val_loss: 0.8306\n"
          ],
          "name": "stdout"
        }
      ]
    },
    {
      "cell_type": "code",
      "metadata": {
        "id": "TAhA0-C6dQ5I",
        "colab_type": "code",
        "outputId": "ac0da986-f08d-4e97-c01c-1480c8a13ec7",
        "colab": {
          "base_uri": "https://localhost:8080/",
          "height": 297
        }
      },
      "source": [
        "# plotting the metrics\n",
        "fig = plt.figure()\n",
        "# plt.subplot(2,1,1)\n",
        "# plt.plot(history3.history['binary_accuracy'])\n",
        "# plt.plot(history3.history['val_binary_accuracy'])\n",
        "# plt.title('model accuracy')\n",
        "# plt.ylabel('accuracy')\n",
        "# plt.xlabel('epoch')\n",
        "# plt.legend(['train', 'test'], loc='lower right')\n",
        "\n",
        "# plt.subplot(2,1,2)\n",
        "plt.plot(history3.history['loss'])\n",
        "plt.plot(history3.history['val_loss'])\n",
        "plt.title('model loss')\n",
        "plt.ylabel('loss')\n",
        "plt.xlabel('epoch')\n",
        "plt.legend(['train', 'test'], loc='upper right')\n",
        "\n",
        "plt.tight_layout()\n",
        "\n",
        "#fig"
      ],
      "execution_count": 0,
      "outputs": [
        {
          "output_type": "display_data",
          "data": {
            "image/png": "[encoded data removed]",
            "text/plain": [
              "<Figure size 432x288 with 1 Axes>"
            ]
          },
          "metadata": {
            "tags": [],
            "needs_background": "light"
          }
        }
      ]
    },
    {
      "cell_type": "code",
      "metadata": {
        "id": "HOzjigOnWBbx",
        "colab_type": "code",
        "colab": {}
      },
      "source": [
        "\n",
        "\n",
        "\"\"\"\n",
        "Set up the logistic regression model\n",
        "\"\"\"\n",
        "model = Sequential()\n",
        "model.add(Dense(1,  # output dim is 2, one score per each class\n",
        "                activation='softmax',\n",
        "                kernel_regularizer=L1L2(l1=0.0, l2=0.1),\n",
        "                input_dim=60)) \n",
        "model.compile(loss='binary_crossentropy', optimizer='adam', metrics=['accuracy'])"
      ],
      "execution_count": 0,
      "outputs": []
    },
    {
      "cell_type": "code",
      "metadata": {
        "id": "B4BtX7rxWBjU",
        "colab_type": "code",
        "colab": {}
      },
      "source": [
        ""
      ],
      "execution_count": 0,
      "outputs": []
    }
  ]
}