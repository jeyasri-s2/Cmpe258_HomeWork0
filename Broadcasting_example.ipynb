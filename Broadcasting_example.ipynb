{
  "nbformat": 4,
  "nbformat_minor": 0,
  "metadata": {
    "colab": {
      "name": "Untitled2.ipynb",
      "provenance": [],
      "authorship_tag": "ABX9TyMp4l12lW+x9Dnw2Y3zFNTy",
      "include_colab_link": true
    },
    "kernelspec": {
      "name": "python3",
      "display_name": "Python 3"
    }
  },
  "cells": [
    {
      "cell_type": "markdown",
      "metadata": {
        "id": "view-in-github",
        "colab_type": "text"
      },
      "source": [
        "<a href=\"https://colab.research.google.com/github/jeyasris2/Cmpe258_HomeWork0/blob/master/Broadcasting_example.ipynb\" target=\"_parent\"><img src=\"https://colab.research.google.com/assets/colab-badge.svg\" alt=\"Open In Colab\"/></a>"
      ]
    },
    {
      "cell_type": "markdown",
      "metadata": {
        "id": "wGlyY5R-RzZH",
        "colab_type": "text"
      },
      "source": [
        "**Broadcasting using numpy**"
      ]
    },
    {
      "cell_type": "code",
      "metadata": {
        "id": "Ld3Z0DB7Rx4E",
        "colab_type": "code",
        "colab": {}
      },
      "source": [
        "import numpy as np"
      ],
      "execution_count": 0,
      "outputs": []
    },
    {
      "cell_type": "markdown",
      "metadata": {
        "id": "4mJuqjaLw61H",
        "colab_type": "text"
      },
      "source": [
        "**Declaration of array in numpy**"
      ]
    },
    {
      "cell_type": "code",
      "metadata": {
        "id": "Vm8CXLTMxAPd",
        "colab_type": "code",
        "colab": {}
      },
      "source": [
        "a = np.array([1,2,3],dtype='int')"
      ],
      "execution_count": 0,
      "outputs": []
    },
    {
      "cell_type": "markdown",
      "metadata": {
        "id": "ixWY0Fl_xI7l",
        "colab_type": "text"
      },
      "source": [
        "**Random array generation in numpy**"
      ]
    },
    {
      "cell_type": "code",
      "metadata": {
        "id": "VfLTMIIiSCFb",
        "colab_type": "code",
        "colab": {}
      },
      "source": [
        "np.random.seed(0)\n",
        "a = np.random.rand(3,4)\n",
        "b = np.random.rand(4)"
      ],
      "execution_count": 0,
      "outputs": []
    },
    {
      "cell_type": "code",
      "metadata": {
        "id": "SWVaUPYSSy4C",
        "colab_type": "code",
        "colab": {
          "base_uri": "https://localhost:8080/",
          "height": 68
        },
        "outputId": "d3fc4793-168e-4766-e0a3-1ee88694bd3a"
      },
      "source": [
        "a"
      ],
      "execution_count": 20,
      "outputs": [
        {
          "output_type": "execute_result",
          "data": {
            "text/plain": [
              "array([[0.5488135 , 0.71518937, 0.60276338, 0.54488318],\n",
              "       [0.4236548 , 0.64589411, 0.43758721, 0.891773  ],\n",
              "       [0.96366276, 0.38344152, 0.79172504, 0.52889492]])"
            ]
          },
          "metadata": {
            "tags": []
          },
          "execution_count": 20
        }
      ]
    },
    {
      "cell_type": "code",
      "metadata": {
        "id": "Ybuf0XIKS2ji",
        "colab_type": "code",
        "colab": {
          "base_uri": "https://localhost:8080/",
          "height": 34
        },
        "outputId": "52df6230-ffad-4e2a-9688-d8a63c344294"
      },
      "source": [
        "b"
      ],
      "execution_count": 21,
      "outputs": [
        {
          "output_type": "execute_result",
          "data": {
            "text/plain": [
              "array([0.56804456, 0.92559664, 0.07103606, 0.0871293 ])"
            ]
          },
          "metadata": {
            "tags": []
          },
          "execution_count": 21
        }
      ]
    },
    {
      "cell_type": "markdown",
      "metadata": {
        "id": "qEP8YugFxeon",
        "colab_type": "text"
      },
      "source": [
        "**Zeros and ones in numpy**"
      ]
    },
    {
      "cell_type": "code",
      "metadata": {
        "id": "QAWlruJBxjH7",
        "colab_type": "code",
        "colab": {
          "base_uri": "https://localhost:8080/",
          "height": 68
        },
        "outputId": "d24b710d-6eb2-48ab-84fc-d459ae622d45"
      },
      "source": [
        "c = np.zeros((3,4))\n",
        "c"
      ],
      "execution_count": 16,
      "outputs": [
        {
          "output_type": "execute_result",
          "data": {
            "text/plain": [
              "array([[0., 0., 0., 0.],\n",
              "       [0., 0., 0., 0.],\n",
              "       [0., 0., 0., 0.]])"
            ]
          },
          "metadata": {
            "tags": []
          },
          "execution_count": 16
        }
      ]
    },
    {
      "cell_type": "code",
      "metadata": {
        "id": "dn5kqhVsxnM6",
        "colab_type": "code",
        "colab": {
          "base_uri": "https://localhost:8080/",
          "height": 51
        },
        "outputId": "82e3d087-e0c7-4807-a57e-653f6df498bb"
      },
      "source": [
        "d = np.ones((2,3))\n",
        "d"
      ],
      "execution_count": 17,
      "outputs": [
        {
          "output_type": "execute_result",
          "data": {
            "text/plain": [
              "array([[1., 1., 1.],\n",
              "       [1., 1., 1.]])"
            ]
          },
          "metadata": {
            "tags": []
          },
          "execution_count": 17
        }
      ]
    },
    {
      "cell_type": "markdown",
      "metadata": {
        "id": "C4Au6M7wxQYp",
        "colab_type": "text"
      },
      "source": [
        "**Broadcasting in addition operation**"
      ]
    },
    {
      "cell_type": "code",
      "metadata": {
        "id": "oL53AEpLS4yq",
        "colab_type": "code",
        "colab": {
          "base_uri": "https://localhost:8080/",
          "height": 68
        },
        "outputId": "15e177b8-6d48-4b6c-9796-5c1e64b5a766"
      },
      "source": [
        "np.add(a,b)"
      ],
      "execution_count": 22,
      "outputs": [
        {
          "output_type": "execute_result",
          "data": {
            "text/plain": [
              "array([[1.11685807, 1.640786  , 0.67379943, 0.63201248],\n",
              "       [0.99169936, 1.57149075, 0.50862327, 0.9789023 ],\n",
              "       [1.53170732, 1.30903816, 0.8627611 , 0.61602422]])"
            ]
          },
          "metadata": {
            "tags": []
          },
          "execution_count": 22
        }
      ]
    },
    {
      "cell_type": "markdown",
      "metadata": {
        "id": "LTL_usrIxWxC",
        "colab_type": "text"
      },
      "source": [
        "**Broadcasting both the arrays**"
      ]
    },
    {
      "cell_type": "code",
      "metadata": {
        "id": "nHNESTC4TZVn",
        "colab_type": "code",
        "colab": {
          "base_uri": "https://localhost:8080/",
          "height": 34
        },
        "outputId": "da5b2b3f-615a-49bd-a91d-7ea12997fbdc"
      },
      "source": [
        "d = np.arange(1,10,2)\n",
        "d"
      ],
      "execution_count": 23,
      "outputs": [
        {
          "output_type": "execute_result",
          "data": {
            "text/plain": [
              "array([1, 3, 5, 7, 9])"
            ]
          },
          "metadata": {
            "tags": []
          },
          "execution_count": 23
        }
      ]
    },
    {
      "cell_type": "code",
      "metadata": {
        "id": "h--Y4dN4yRHR",
        "colab_type": "code",
        "colab": {
          "base_uri": "https://localhost:8080/",
          "height": 34
        },
        "outputId": "1403da9c-1c5e-43c9-b8a5-6bc3711c6642"
      },
      "source": [
        "e = np.arange(2,11,2)\n",
        "e"
      ],
      "execution_count": 34,
      "outputs": [
        {
          "output_type": "execute_result",
          "data": {
            "text/plain": [
              "array([ 2,  4,  6,  8, 10])"
            ]
          },
          "metadata": {
            "tags": []
          },
          "execution_count": 34
        }
      ]
    },
    {
      "cell_type": "code",
      "metadata": {
        "id": "RHrY6duhyijx",
        "colab_type": "code",
        "colab": {
          "base_uri": "https://localhost:8080/",
          "height": 119
        },
        "outputId": "bad7a38e-8368-4e63-e8dc-2208970e9a5c"
      },
      "source": [
        "e = e[:,np.newaxis]\n",
        "print(\"shape of e:\",e.shape)\n",
        "e"
      ],
      "execution_count": 35,
      "outputs": [
        {
          "output_type": "stream",
          "text": [
            "shape of e: (5, 1)\n"
          ],
          "name": "stdout"
        },
        {
          "output_type": "execute_result",
          "data": {
            "text/plain": [
              "array([[ 2],\n",
              "       [ 4],\n",
              "       [ 6],\n",
              "       [ 8],\n",
              "       [10]])"
            ]
          },
          "metadata": {
            "tags": []
          },
          "execution_count": 35
        }
      ]
    },
    {
      "cell_type": "code",
      "metadata": {
        "id": "4aGhkYyEy2Jq",
        "colab_type": "code",
        "colab": {
          "base_uri": "https://localhost:8080/",
          "height": 102
        },
        "outputId": "7de83b5e-738a-4fff-f713-23a58b0bff84"
      },
      "source": [
        "d+e"
      ],
      "execution_count": 36,
      "outputs": [
        {
          "output_type": "execute_result",
          "data": {
            "text/plain": [
              "array([[ 3,  5,  7,  9, 11],\n",
              "       [ 5,  7,  9, 11, 13],\n",
              "       [ 7,  9, 11, 13, 15],\n",
              "       [ 9, 11, 13, 15, 17],\n",
              "       [11, 13, 15, 17, 19]])"
            ]
          },
          "metadata": {
            "tags": []
          },
          "execution_count": 36
        }
      ]
    },
    {
      "cell_type": "markdown",
      "metadata": {
        "id": "Bg8H8fQ2zpYA",
        "colab_type": "text"
      },
      "source": [
        "**Broadcasting with multiplication example**"
      ]
    },
    {
      "cell_type": "code",
      "metadata": {
        "id": "2BZ1-M_EzAqw",
        "colab_type": "code",
        "colab": {}
      },
      "source": [
        "g = np.random.rand(2,3)\n",
        "h = np.random.rand(3)"
      ],
      "execution_count": 0,
      "outputs": []
    },
    {
      "cell_type": "code",
      "metadata": {
        "id": "yhy9zLEgzmhZ",
        "colab_type": "code",
        "colab": {
          "base_uri": "https://localhost:8080/",
          "height": 51
        },
        "outputId": "eb41e97b-5f6c-43f9-e1d6-d99e0d3dae21"
      },
      "source": [
        "g*h"
      ],
      "execution_count": 43,
      "outputs": [
        {
          "output_type": "execute_result",
          "data": {
            "text/plain": [
              "array([[0.00933037, 0.64988408, 0.09203604],\n",
              "       [0.40149265, 0.76384017, 0.09452002]])"
            ]
          },
          "metadata": {
            "tags": []
          },
          "execution_count": 43
        }
      ]
    }
  ]
}