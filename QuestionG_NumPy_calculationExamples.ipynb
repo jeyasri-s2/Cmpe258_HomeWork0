{
  "nbformat": 4,
  "nbformat_minor": 0,
  "metadata": {
    "colab": {
      "name": "Untitled1.ipynb",
      "provenance": [],
      "authorship_tag": "ABX9TyNq9ylXnVDeHfYbHzKoIQ6X",
      "include_colab_link": true
    },
    "kernelspec": {
      "name": "python3",
      "display_name": "Python 3"
    }
  },
  "cells": [
    {
      "cell_type": "markdown",
      "metadata": {
        "id": "view-in-github",
        "colab_type": "text"
      },
      "source": [
        "<a href=\"https://colab.research.google.com/github/jeyasris2/Cmpe258_HomeWork0/blob/master/NumPy_calculationExamples.ipynb\" target=\"_parent\"><img src=\"https://colab.research.google.com/assets/colab-badge.svg\" alt=\"Open In Colab\"/></a>"
      ]
    },
    {
      "cell_type": "code",
      "metadata": {
        "id": "FBRHvaOPRVfq",
        "colab_type": "code",
        "colab": {}
      },
      "source": [
        "import numpy as np\n",
        "np.random.seed(0)"
      ],
      "execution_count": 0,
      "outputs": []
    },
    {
      "cell_type": "markdown",
      "metadata": {
        "id": "43KNSN4zRpgq",
        "colab_type": "text"
      },
      "source": [
        "**Linear equation**"
      ]
    },
    {
      "cell_type": "code",
      "metadata": {
        "id": "8SB_YLGPRYAx",
        "colab_type": "code",
        "colab": {}
      },
      "source": [
        "x = np.random.rand(3,3)\n",
        "W = np.ones((3,3))\n",
        "b = np.random.rand(1)"
      ],
      "execution_count": 0,
      "outputs": []
    },
    {
      "cell_type": "code",
      "metadata": {
        "id": "aBJEbww6RlrH",
        "colab_type": "code",
        "colab": {
          "base_uri": "https://localhost:8080/",
          "height": 68
        },
        "outputId": "85a2ee95-3f15-4c2e-f645-89f0a6349367"
      },
      "source": [
        "y = W*x + b\n",
        "y"
      ],
      "execution_count": 19,
      "outputs": [
        {
          "output_type": "execute_result",
          "data": {
            "text/plain": [
              "array([[0.93225502, 1.09863089, 0.98620489],\n",
              "       [0.9283247 , 0.80709632, 1.02933563],\n",
              "       [0.82102873, 1.27521452, 1.34710428]])"
            ]
          },
          "metadata": {
            "tags": []
          },
          "execution_count": 19
        }
      ]
    },
    {
      "cell_type": "code",
      "metadata": {
        "id": "a5MhzidpSkQ2",
        "colab_type": "code",
        "colab": {
          "base_uri": "https://localhost:8080/",
          "height": 51
        },
        "outputId": "fa060e1c-46c5-42f2-dde3-a839225d32b5"
      },
      "source": [
        "\n",
        "a = np.random.rand(2,2)\n",
        "b = np.random.rand(2,2)\n",
        "\n",
        "c = np.add(a,b)\n",
        "c"
      ],
      "execution_count": 22,
      "outputs": [
        {
          "output_type": "execute_result",
          "data": {
            "text/plain": [
              "array([[0.4079089 , 1.71890261],\n",
              "       [0.97799865, 0.98309589]])"
            ]
          },
          "metadata": {
            "tags": []
          },
          "execution_count": 22
        }
      ]
    },
    {
      "cell_type": "code",
      "metadata": {
        "id": "ZOc_Y48VS8qi",
        "colab_type": "code",
        "colab": {
          "base_uri": "https://localhost:8080/",
          "height": 51
        },
        "outputId": "7f4e831e-5604-4d7e-8bb2-d0571b4e6117"
      },
      "source": [
        "d = np.multiply(a,b)\n",
        "d"
      ],
      "execution_count": 23,
      "outputs": [
        {
          "output_type": "execute_result",
          "data": {
            "text/plain": [
              "array([[0.03792492, 0.7313945 ],\n",
              "       [0.23804129, 0.23570792]])"
            ]
          },
          "metadata": {
            "tags": []
          },
          "execution_count": 23
        }
      ]
    },
    {
      "cell_type": "code",
      "metadata": {
        "id": "FV1Z6S7VTB8a",
        "colab_type": "code",
        "colab": {
          "base_uri": "https://localhost:8080/",
          "height": 51
        },
        "outputId": "0836733c-3f80-455f-ac54-1b1a02804197"
      },
      "source": [
        "e = np.dot(a,b)\n",
        "e"
      ],
      "execution_count": 27,
      "outputs": [
        {
          "output_type": "execute_result",
          "data": {
            "text/plain": [
              "array([[0.46883596, 0.64797083],\n",
              "       [0.32720608, 0.63974048]])"
            ]
          },
          "metadata": {
            "tags": []
          },
          "execution_count": 27
        }
      ]
    },
    {
      "cell_type": "code",
      "metadata": {
        "id": "n4MfU74CTL-h",
        "colab_type": "code",
        "colab": {
          "base_uri": "https://localhost:8080/",
          "height": 51
        },
        "outputId": "4286b85d-deda-4403-f651-31b9831c9115"
      },
      "source": [
        "arr = np.random.randint( 1, 100, (2,3))\n",
        "arr"
      ],
      "execution_count": 34,
      "outputs": [
        {
          "output_type": "execute_result",
          "data": {
            "text/plain": [
              "array([[83, 92,  1],\n",
              "       [15, 54, 13]])"
            ]
          },
          "metadata": {
            "tags": []
          },
          "execution_count": 34
        }
      ]
    },
    {
      "cell_type": "code",
      "metadata": {
        "id": "uoEDHxQIW1in",
        "colab_type": "code",
        "colab": {
          "base_uri": "https://localhost:8080/",
          "height": 51
        },
        "outputId": "097e628e-34a2-4f52-c719-1e0427449b36"
      },
      "source": [
        "np.diff(arr)"
      ],
      "execution_count": 35,
      "outputs": [
        {
          "output_type": "execute_result",
          "data": {
            "text/plain": [
              "array([[  9, -91],\n",
              "       [ 39, -41]])"
            ]
          },
          "metadata": {
            "tags": []
          },
          "execution_count": 35
        }
      ]
    },
    {
      "cell_type": "code",
      "metadata": {
        "id": "owqWb1qXXVfe",
        "colab_type": "code",
        "colab": {
          "base_uri": "https://localhost:8080/",
          "height": 51
        },
        "outputId": "719bd658-57ba-4481-a8c3-f8b9bd9d7f66"
      },
      "source": [
        "np.sqrt(arr)"
      ],
      "execution_count": 36,
      "outputs": [
        {
          "output_type": "execute_result",
          "data": {
            "text/plain": [
              "array([[9.11043358, 9.59166305, 1.        ],\n",
              "       [3.87298335, 7.34846923, 3.60555128]])"
            ]
          },
          "metadata": {
            "tags": []
          },
          "execution_count": 36
        }
      ]
    },
    {
      "cell_type": "code",
      "metadata": {
        "id": "uCs5vRjFhqDk",
        "colab_type": "code",
        "colab": {
          "base_uri": "https://localhost:8080/",
          "height": 136
        },
        "outputId": "5a9894cb-0072-4c18-ba7f-d194ea1a8fde"
      },
      "source": [
        "print(arr.shape)\n",
        "print(arr)\n",
        "arr1 = np.reshape(arr,(3,2))\n",
        "print(arr1.shape)\n",
        "arr1"
      ],
      "execution_count": 41,
      "outputs": [
        {
          "output_type": "stream",
          "text": [
            "(2, 3)\n",
            "[[83 92  1]\n",
            " [15 54 13]]\n",
            "(3, 2)\n"
          ],
          "name": "stdout"
        },
        {
          "output_type": "execute_result",
          "data": {
            "text/plain": [
              "array([[83, 92],\n",
              "       [ 1, 15],\n",
              "       [54, 13]])"
            ]
          },
          "metadata": {
            "tags": []
          },
          "execution_count": 41
        }
      ]
    },
    {
      "cell_type": "code",
      "metadata": {
        "id": "kwGt4T5jh7wQ",
        "colab_type": "code",
        "colab": {
          "base_uri": "https://localhost:8080/",
          "height": 281
        },
        "outputId": "de949a63-71d9-4716-a318-fa4ac136b55a"
      },
      "source": [
        "import matplotlib.pyplot as plt\n",
        "\n",
        "x = np.arange(0, 3 * np.pi, 0.1)\n",
        "y_sin = np.sin(x)\n",
        "y_cos = np.cos(x)\n",
        "\n",
        "\n",
        "plt.subplot(2, 1, 1)\n",
        "\n",
        "\n",
        "plt.plot(x, y_sin)\n",
        "plt.title('Sine')\n",
        "\n",
        "plt.subplot(2, 1, 2)\n",
        "plt.plot(x, y_cos)\n",
        "plt.title('Cosine')\n",
        "\n",
        "plt.show()"
      ],
      "execution_count": 42,
      "outputs": [
        {
          "output_type": "display_data",
          "data": {
            "image/png": "[encoded data removed]",
            "text/plain": [
              "<Figure size 432x288 with 2 Axes>"
            ]
          },
          "metadata": {
            "tags": []
          }
        }
      ]
    }
  ]
}