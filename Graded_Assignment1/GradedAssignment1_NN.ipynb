{
  "nbformat": 4,
  "nbformat_minor": 0,
  "metadata": {
    "colab": {
      "name": "GradedAssignment1_NN.ipynb",
      "provenance": [],
      "collapsed_sections": [],
      "toc_visible": true
    },
    "kernelspec": {
      "name": "python3",
      "display_name": "Python 3"
    },
    "accelerator": "TPU"
  },
  "cells": [
    {
      "cell_type": "code",
      "metadata": {
        "id": "2hVmbZ9qzNNJ",
        "colab_type": "code",
        "outputId": "544931be-c776-40f0-d14d-1953417718c3",
        "colab": {
          "base_uri": "https://localhost:8080/",
          "height": 190
        }
      },
      "source": [
        "!pip install wget"
      ],
      "execution_count": 2,
      "outputs": [
        {
          "output_type": "stream",
          "text": [
            "Collecting wget\n",
            "  Downloading https://files.pythonhosted.org/packages/47/6a/62e288da7bcda82b935ff0c6cfe542970f04e29c756b0e147251b2fb251f/wget-3.2.zip\n",
            "Building wheels for collected packages: wget\n",
            "  Building wheel for wget (setup.py) ... \u001b[?25l\u001b[?25hdone\n",
            "  Created wheel for wget: filename=wget-3.2-cp36-none-any.whl size=9682 sha256=3267faaa4affa9a523e6a66f64e6c01af963d78b6a45baf6647efaa577078d2e\n",
            "  Stored in directory: /root/.cache/pip/wheels/40/15/30/7d8f7cea2902b4db79e3fea550d7d7b85ecb27ef992b618f3f\n",
            "Successfully built wget\n",
            "Installing collected packages: wget\n",
            "Successfully installed wget-3.2\n"
          ],
          "name": "stdout"
        }
      ]
    },
    {
      "cell_type": "code",
      "metadata": {
        "id": "wSaQSSiEoXVT",
        "colab_type": "code",
        "colab": {}
      },
      "source": [
        "import numpy as np\n",
        "import os\n",
        "\n",
        "import gzip\n",
        "import pickle\n",
        "import sys\n",
        "import wget\n",
        "import random\n",
        "import matplotlib.pyplot as plt"
      ],
      "execution_count": 0,
      "outputs": []
    },
    {
      "cell_type": "code",
      "metadata": {
        "id": "RKDjl5xU0ma4",
        "colab_type": "code",
        "colab": {}
      },
      "source": [
        "if not os.path.exists(os.path.join(os.curdir, \"data\")):\n",
        "  os.mkdir(os.path.join(os.curdir, \"data\"))"
      ],
      "execution_count": 0,
      "outputs": []
    },
    {
      "cell_type": "code",
      "metadata": {
        "id": "52SbZjI90KiO",
        "colab_type": "code",
        "outputId": "4af7b6f7-f875-4c48-e91a-32f17ea6aa77",
        "colab": {
          "base_uri": "https://localhost:8080/",
          "height": 34
        }
      },
      "source": [
        " wget.download(\"http://deeplearning.net/data/mnist/mnist.pkl.gz\", out=\"data\")"
      ],
      "execution_count": 5,
      "outputs": [
        {
          "output_type": "execute_result",
          "data": {
            "text/plain": [
              "'data/mnist.pkl.gz'"
            ]
          },
          "metadata": {
            "tags": []
          },
          "execution_count": 5
        }
      ]
    },
    {
      "cell_type": "markdown",
      "metadata": {
        "id": "qr3hKCmBpPPl",
        "colab_type": "text"
      },
      "source": [
        "#Load Dataset"
      ]
    },
    {
      "cell_type": "code",
      "metadata": {
        "id": "2C_8mUjzpG2B",
        "colab_type": "code",
        "colab": {}
      },
      "source": [
        "def load_mnist():\n",
        "    # if not os.path.exists(os.path.join(os.curdir, \"data\")):\n",
        "    #     os.mkdir(os.path.join(os.curdir, \"data\"))\n",
        "    #     wget.download(\"http://deeplearning.net/data/mnist/mnist.pkl.gz\", out=\"data\")\n",
        "\n",
        "    data_file = gzip.open(os.path.join(os.curdir, \"data\", \"mnist.pkl.gz\"), \"rb\")\n",
        "    train_data, val_data, test_data = pickle.load(data_file, encoding=\"latin1\")\n",
        "    data_file.close()\n",
        "\n",
        "    train_inputs = [np.reshape(x, (784, 1)) for x in train_data[0]]\n",
        "    train_results = [vectorized_result(y) for y in train_data[1]]\n",
        "    train_data = list(zip(train_inputs, train_results))\n",
        "\n",
        "    val_inputs = [np.reshape(x, (784, 1)) for x in val_data[0]]\n",
        "    val_results = val_data[1]\n",
        "    val_data = list(zip(val_inputs, val_results))\n",
        "\n",
        "    test_inputs = [np.reshape(x, (784, 1)) for x in test_data[0]]\n",
        "    test_data = list(zip(test_inputs, test_data[1]))\n",
        "    return train_data, val_data, test_data\n"
      ],
      "execution_count": 0,
      "outputs": []
    },
    {
      "cell_type": "code",
      "metadata": {
        "id": "PvmU4ek5pTcj",
        "colab_type": "code",
        "colab": {}
      },
      "source": [
        "def vectorized_result(y):\n",
        "    e = np.zeros((10, 1))\n",
        "    e[y] = 1.0\n",
        "    return e"
      ],
      "execution_count": 0,
      "outputs": []
    },
    {
      "cell_type": "markdown",
      "metadata": {
        "id": "DcjgBAOasOFq",
        "colab_type": "text"
      },
      "source": [
        "# Activation methods and derivatives"
      ]
    },
    {
      "cell_type": "code",
      "metadata": {
        "id": "MdfSLZsX7wkI",
        "colab_type": "code",
        "colab": {}
      },
      "source": [
        "class Activations:\n",
        "  def sigmoid(self, z):\n",
        "    return 1.0 / (1.0 + np.exp(-z))\n",
        "\n",
        "\n",
        "  def sigmoid_prime(self, z):\n",
        "      return sigmoid(z) * (1 - sigmoid(z))\n",
        "\n",
        "\n",
        "  def softmax(self, z):\n",
        "      return np.exp(z) / np.sum(np.exp(z))\n",
        "\n",
        "\n",
        "  def tanh(self, z):\n",
        "      return np.tanh(z)\n",
        "\n",
        "\n",
        "  def tanh_prime(self, z):\n",
        "      return 1 - tanh(z) * tanh(z)\n",
        "\n",
        "\n",
        "  def relu(self,z):\n",
        "      return np.maximum(z, 0)\n",
        "\n",
        "\n",
        "  def relu_prime(self,z):\n",
        "      return z > 0"
      ],
      "execution_count": 0,
      "outputs": []
    },
    {
      "cell_type": "markdown",
      "metadata": {
        "id": "2th6PYM6pkJP",
        "colab_type": "text"
      },
      "source": [
        "## Forward Propagation"
      ]
    },
    {
      "cell_type": "code",
      "metadata": {
        "id": "Z4dA68rQpsnZ",
        "colab_type": "code",
        "colab": {}
      },
      "source": [
        "def _forward_prop(x, num_layers,_activations,_zs,activation_fn,weights,biases):\n",
        "  _activations[0] = x\n",
        "  for i in range(1, num_layers):\n",
        "    _zs[i] = (\n",
        "      weights[i].dot(_activations[i - 1]) + biases[i]\n",
        "    )\n",
        "\n",
        "    # Use \"softmax\" for last layer.\n",
        "    if i == num_layers - 1:\n",
        "      _activations[i] = Activations().softmax(_zs[i])\n",
        "    else:\n",
        "      _activations[i] = activation_fn(_zs[i])\n",
        "  return _activations, _zs"
      ],
      "execution_count": 0,
      "outputs": []
    },
    {
      "cell_type": "markdown",
      "metadata": {
        "id": "eFG4NEMvppJr",
        "colab_type": "text"
      },
      "source": [
        "## Back propagation"
      ]
    },
    {
      "cell_type": "code",
      "metadata": {
        "id": "RA14ZpODpnif",
        "colab_type": "code",
        "colab": {}
      },
      "source": [
        "def _back_prop(x, y,weights, biases, _activations,num_layers, _zs):\n",
        "  nabla_b = [np.zeros(bias.shape) for bias in biases]\n",
        "  nabla_w = [np.zeros(weight.shape) for weight in weights]\n",
        "\n",
        "  error = (_activations[-1] - y)\n",
        "  nabla_b[-1] = error\n",
        "  nabla_w[-1] = error.dot(_activations[-2].transpose())\n",
        "\n",
        "  for l in range(num_layers - 2, 0, -1):\n",
        "    error = np.multiply(\n",
        "      weights[l + 1].transpose().dot(error),\n",
        "      activation_fn_prime(_zs[l])\n",
        "    )\n",
        "    nabla_b[l] = error\n",
        "    nabla_w[l] = error.dot(_activations[l - 1].transpose())\n",
        "\n",
        "  return nabla_b, nabla_w"
      ],
      "execution_count": 0,
      "outputs": []
    },
    {
      "cell_type": "markdown",
      "metadata": {
        "id": "EX_hfu-KqYYg",
        "colab_type": "text"
      },
      "source": [
        "## Train model with 3 layer neural network"
      ]
    },
    {
      "cell_type": "code",
      "metadata": {
        "id": "hof4y6oGqaKT",
        "colab_type": "code",
        "colab": {}
      },
      "source": [
        "def train(training_data, validation_data,layers, _activations,_zs,activation_fn,epochs, mini_batch_size, weights, biases,lr):\n",
        "  num_layers = len(layers)\n",
        "\n",
        "  for epoch in range(epochs):\n",
        "    random.shuffle(training_data)\n",
        "    mini_batches = [training_data[k:k + mini_batch_size] for k in range(0, len(training_data), mini_batch_size)]\n",
        " \n",
        "    for mini_batch in mini_batches:\n",
        "      nabla_b = [np.zeros(bias.shape) for bias in biases]\n",
        "      nabla_w = [np.zeros(weight.shape) for weight in weights]\n",
        "      #print(mini_batch)\n",
        "      for x, y in mini_batch:\n",
        "        _activations,_zs = _forward_prop(x,num_layers,_activations,_zs,activation_fn,weights,biases)\n",
        "        delta_nabla_b, delta_nabla_w = _back_prop(x, y,weights, biases, _activations,num_layers, _zs)\n",
        "        nabla_b = [nb + dnb for nb, dnb in zip(nabla_b, delta_nabla_b)]\n",
        "        nabla_w = [nw + dnw for nw, dnw in zip(nabla_w, delta_nabla_w)]\n",
        "\n",
        "        weights = [\n",
        "                      w - (lr / mini_batch_size) * dw for w, dw in\n",
        "                      zip(weights, nabla_w)]\n",
        "        biases = [\n",
        "                      b - (lr / mini_batch_size) * db for b, db in\n",
        "                      zip(biases, nabla_b)]\n",
        "\n",
        "    if validation_data:\n",
        "      accuracy = validate(validation_data,num_layers,_activations,_zs,weights,biases) / 100.0\n",
        "      print(f\"Epoch {epoch + 1}, accuracy {accuracy} %.\")\n",
        "    else:\n",
        "        print(f\"Processed epoch {epoch}.\")\n",
        "          "
      ],
      "execution_count": 0,
      "outputs": []
    },
    {
      "cell_type": "code",
      "metadata": {
        "id": "-pQWyHo4tJzt",
        "colab_type": "code",
        "colab": {}
      },
      "source": [
        "def validate(validation_data,num_layers,_activations,_zs,weights,biases):\n",
        "  validation_results = [(predict(x,num_layers,_activations,_zs,weights,biases) == y) for x, y in validation_data]\n",
        "  return sum(result for result in validation_results)"
      ],
      "execution_count": 0,
      "outputs": []
    },
    {
      "cell_type": "markdown",
      "metadata": {
        "id": "Bs1m4u5xtQZJ",
        "colab_type": "text"
      },
      "source": [
        "## Validate model"
      ]
    },
    {
      "cell_type": "code",
      "metadata": {
        "id": "ReyLRlUQtS1b",
        "colab_type": "code",
        "colab": {}
      },
      "source": [
        "def predict(x,num_layers,_activations,_zs,weights,biases):\n",
        "  _forward_prop(x,num_layers,_activations,_zs,activation_fn,weights,biases)\n",
        "  return np.argmax(_activations[-1])"
      ],
      "execution_count": 0,
      "outputs": []
    },
    {
      "cell_type": "markdown",
      "metadata": {
        "id": "No3kKW7Pt1pD",
        "colab_type": "text"
      },
      "source": [
        "## Initialize variable"
      ]
    },
    {
      "cell_type": "code",
      "metadata": {
        "id": "cJ1kz8-Jzhq9",
        "colab_type": "code",
        "colab": {}
      },
      "source": [
        "train_data, val_data, test_data = load_mnist()\n"
      ],
      "execution_count": 0,
      "outputs": []
    },
    {
      "cell_type": "code",
      "metadata": {
        "id": "2aGXcw4uN-nU",
        "colab_type": "code",
        "colab": {
          "base_uri": "https://localhost:8080/",
          "height": 34
        },
        "outputId": "2bd95689-ba29-4db0-d53e-4b0004bf51d8"
      },
      "source": [
        "len(train_data)"
      ],
      "execution_count": 15,
      "outputs": [
        {
          "output_type": "execute_result",
          "data": {
            "text/plain": [
              "50000"
            ]
          },
          "metadata": {
            "tags": []
          },
          "execution_count": 15
        }
      ]
    },
    {
      "cell_type": "markdown",
      "metadata": {
        "id": "rzIYnxFCjGCc",
        "colab_type": "text"
      },
      "source": [
        "## Mini batch gradient descent"
      ]
    },
    {
      "cell_type": "code",
      "metadata": {
        "id": "5wPKYYGPwkJ1",
        "colab_type": "code",
        "colab": {}
      },
      "source": [
        "np.random.seed(42)\n",
        "\n",
        "layers = [784, 64,32, 10]\n",
        "learning_rate = 0.01\n",
        "mini_batch_size = 16\n",
        "epochs = 10\n",
        "activation_name =\"relu\"\n",
        "sizes = layers\n",
        "weights = [np.array([0])] + [np.random.randn(y, x)/np.sqrt(x) for y, x in\n",
        "                                          zip(sizes[1:], sizes[:-1])]\n",
        "\n",
        "biases = [np.array([0])] + [np.random.randn(y, 1) for y in sizes[1:]]\n",
        "_zs = [np.zeros(bias.shape) for bias in biases]\n",
        "_activations = [np.zeros(bias.shape) for bias in biases]\n",
        "#Load data\n",
        "activation_fn = getattr(Activations(), activation_name)\n",
        "activation_fn_prime = getattr(Activations(), f\"{activation_name}_prime\")\n"
      ],
      "execution_count": 0,
      "outputs": []
    },
    {
      "cell_type": "code",
      "metadata": {
        "id": "W74ReURR5YgT",
        "colab_type": "code",
        "outputId": "3f6d3ebd-7f92-4cd0-c157-ce9f0a12d5a6",
        "colab": {
          "base_uri": "https://localhost:8080/",
          "height": 34
        }
      },
      "source": [
        "len(val_data)"
      ],
      "execution_count": 17,
      "outputs": [
        {
          "output_type": "execute_result",
          "data": {
            "text/plain": [
              "10000"
            ]
          },
          "metadata": {
            "tags": []
          },
          "execution_count": 17
        }
      ]
    },
    {
      "cell_type": "markdown",
      "metadata": {
        "id": "szc2pl3ti01E",
        "colab_type": "text"
      },
      "source": [
        "**Training with mini batch size of 16 for 10 epochs with learning rate of 0.01**"
      ]
    },
    {
      "cell_type": "code",
      "metadata": {
        "id": "jPlPxarM4hWh",
        "colab_type": "code",
        "outputId": "4bddd26d-78bb-4b08-d0dc-19a1193bd1fa",
        "colab": {
          "base_uri": "https://localhost:8080/",
          "height": 187
        }
      },
      "source": [
        "train(train_data, val_data,layers, _activations,_zs,activation_fn,epochs,mini_batch_size, weights, biases,learning_rate)"
      ],
      "execution_count": 18,
      "outputs": [
        {
          "output_type": "stream",
          "text": [
            "Epoch 1, accuracy 94.89 %.\n",
            "Epoch 2, accuracy 95.19 %.\n",
            "Epoch 3, accuracy 94.51 %.\n",
            "Epoch 4, accuracy 96.13 %.\n",
            "Epoch 5, accuracy 95.64 %.\n",
            "Epoch 6, accuracy 96.41 %.\n",
            "Epoch 7, accuracy 96.86 %.\n",
            "Epoch 8, accuracy 95.08 %.\n",
            "Epoch 9, accuracy 96.58 %.\n",
            "Epoch 10, accuracy 96.78 %.\n"
          ],
          "name": "stdout"
        }
      ]
    },
    {
      "cell_type": "markdown",
      "metadata": {
        "id": "eTMZgc6ej93h",
        "colab_type": "text"
      },
      "source": [
        "**Training with mini batch size of 64 for 10 epochs with learning rate of 0.001**"
      ]
    },
    {
      "cell_type": "code",
      "metadata": {
        "id": "SQGPnlgokIqX",
        "colab_type": "code",
        "colab": {}
      },
      "source": [
        "np.random.seed(42)\n",
        "\n",
        "layers = [784, 64,32, 10]\n",
        "learning_rate = 0.001\n",
        "mini_batch_size = 64\n",
        "epochs = 10\n",
        "activation_name =\"relu\"\n",
        "sizes = layers\n",
        "weights = [np.array([0])] + [np.random.randn(y, x)/np.sqrt(x) for y, x in\n",
        "                                          zip(sizes[1:], sizes[:-1])]\n",
        "\n",
        "biases = [np.array([0])] + [np.random.randn(y, 1) for y in sizes[1:]]\n",
        "_zs = [np.zeros(bias.shape) for bias in biases]\n",
        "_activations = [np.zeros(bias.shape) for bias in biases]\n",
        "#Load data\n",
        "activation_fn = getattr(Activations(), activation_name)\n",
        "activation_fn_prime = getattr(Activations(), f\"{activation_name}_prime\")"
      ],
      "execution_count": 0,
      "outputs": []
    },
    {
      "cell_type": "code",
      "metadata": {
        "id": "HR5kILXFkM4z",
        "colab_type": "code",
        "colab": {
          "base_uri": "https://localhost:8080/",
          "height": 187
        },
        "outputId": "2c01c0ca-a578-4f87-df80-2db3659db8aa"
      },
      "source": [
        "train(train_data, val_data,layers, _activations,_zs,activation_fn,epochs,mini_batch_size, weights, biases,learning_rate)"
      ],
      "execution_count": 25,
      "outputs": [
        {
          "output_type": "stream",
          "text": [
            "Epoch 1, accuracy 90.12 %.\n",
            "Epoch 2, accuracy 91.85 %.\n",
            "Epoch 3, accuracy 92.93 %.\n",
            "Epoch 4, accuracy 93.9 %.\n",
            "Epoch 5, accuracy 94.47 %.\n",
            "Epoch 6, accuracy 94.71 %.\n",
            "Epoch 7, accuracy 95.46 %.\n",
            "Epoch 8, accuracy 95.36 %.\n",
            "Epoch 9, accuracy 95.83 %.\n",
            "Epoch 10, accuracy 96.17 %.\n"
          ],
          "name": "stdout"
        }
      ]
    },
    {
      "cell_type": "markdown",
      "metadata": {
        "id": "1wgmst0IogLT",
        "colab_type": "text"
      },
      "source": [
        "**Training with mini batch of 256 for 20 epochs with learning rate of 0.01**\n",
        "\n",
        "\n"
      ]
    },
    {
      "cell_type": "code",
      "metadata": {
        "id": "7GpcL_c2oqlm",
        "colab_type": "code",
        "colab": {}
      },
      "source": [
        "np.random.seed(42)\n",
        "\n",
        "layers = [784, 64,32, 10]\n",
        "learning_rate = 0.01\n",
        "mini_batch_size = 256\n",
        "epochs = 20\n",
        "activation_name =\"relu\"\n",
        "sizes = layers\n",
        "weights = [np.array([0])] + [np.random.randn(y, x)/np.sqrt(x) for y, x in\n",
        "                                          zip(sizes[1:], sizes[:-1])]\n",
        "\n",
        "biases = [np.array([0])] + [np.random.randn(y, 1) for y in sizes[1:]]\n",
        "_zs = [np.zeros(bias.shape) for bias in biases]\n",
        "_activations = [np.zeros(bias.shape) for bias in biases]\n",
        "#Load data\n",
        "activation_fn = getattr(Activations(), activation_name)\n",
        "activation_fn_prime = getattr(Activations(), f\"{activation_name}_prime\")"
      ],
      "execution_count": 0,
      "outputs": []
    },
    {
      "cell_type": "code",
      "metadata": {
        "id": "R48VbZMBotP0",
        "colab_type": "code",
        "colab": {
          "base_uri": "https://localhost:8080/",
          "height": 357
        },
        "outputId": "01e49bb5-36dd-4525-f3f6-3f30e96bf095"
      },
      "source": [
        "train(train_data, val_data,layers, _activations,_zs,activation_fn,epochs,mini_batch_size, weights, biases,learning_rate)"
      ],
      "execution_count": 36,
      "outputs": [
        {
          "output_type": "stream",
          "text": [
            "Epoch 1, accuracy 94.32 %.\n",
            "Epoch 2, accuracy 95.45 %.\n",
            "Epoch 3, accuracy 95.53 %.\n",
            "Epoch 4, accuracy 96.11 %.\n",
            "Epoch 5, accuracy 96.6 %.\n",
            "Epoch 6, accuracy 96.04 %.\n",
            "Epoch 7, accuracy 96.62 %.\n",
            "Epoch 8, accuracy 96.89 %.\n",
            "Epoch 9, accuracy 96.72 %.\n",
            "Epoch 10, accuracy 96.42 %.\n",
            "Epoch 11, accuracy 96.88 %.\n",
            "Epoch 12, accuracy 97.09 %.\n",
            "Epoch 13, accuracy 96.9 %.\n",
            "Epoch 14, accuracy 96.48 %.\n",
            "Epoch 15, accuracy 96.78 %.\n",
            "Epoch 16, accuracy 96.55 %.\n",
            "Epoch 17, accuracy 97.2 %.\n",
            "Epoch 18, accuracy 96.79 %.\n",
            "Epoch 19, accuracy 96.44 %.\n",
            "Epoch 20, accuracy 96.99 %.\n"
          ],
          "name": "stdout"
        }
      ]
    },
    {
      "cell_type": "markdown",
      "metadata": {
        "id": "fPDYiwxaEHuh",
        "colab_type": "text"
      },
      "source": [
        "# Data Augmentation"
      ]
    },
    {
      "cell_type": "code",
      "metadata": {
        "id": "UV4E8pyRt4_3",
        "colab_type": "code",
        "outputId": "98b2a258-3fca-4acb-d176-98411784063e",
        "colab": {
          "base_uri": "https://localhost:8080/",
          "height": 80
        }
      },
      "source": [
        "from keras.datasets import mnist\n",
        "from keras.preprocessing.image import ImageDataGenerator\n",
        "from keras.utils.np_utils import to_categorical\n"
      ],
      "execution_count": 19,
      "outputs": [
        {
          "output_type": "stream",
          "text": [
            "Using TensorFlow backend.\n"
          ],
          "name": "stderr"
        },
        {
          "output_type": "display_data",
          "data": {
            "text/html": [
              "<p style=\"color: red;\">\n",
              "The default version of TensorFlow in Colab will soon switch to TensorFlow 2.x.<br>\n",
              "We recommend you <a href=\"https://www.tensorflow.org/guide/migrate\" target=\"_blank\">upgrade</a> now \n",
              "or ensure your notebook will continue to use TensorFlow 1.x via the <code>%tensorflow_version 1.x</code> magic:\n",
              "<a href=\"https://colab.research.google.com/notebooks/tensorflow_version.ipynb\" target=\"_blank\">more info</a>.</p>\n"
            ],
            "text/plain": [
              "<IPython.core.display.HTML object>"
            ]
          },
          "metadata": {
            "tags": []
          }
        }
      ]
    },
    {
      "cell_type": "code",
      "metadata": {
        "id": "8lr0IfI_pce_",
        "colab_type": "code",
        "colab": {}
      },
      "source": [
        "class DataAugmentation:\n",
        "    def __init__(self):\n",
        "        (self.x_train, self.y_train), (self.x_test, self.y_test) = mnist.load_data()\n",
        "        # reshape\n",
        "        self.x_train = self.x_train.reshape(self.x_train.shape[0], 28, 28, 1)\n",
        "        self.x_test = self.x_test.reshape(self.x_test.shape[0], 28, 28, 1)\n",
        "        # convert from int to float\n",
        "        self.x_train = self.x_train.astype('float32')\n",
        "        self.x_test = self.x_test.astype('float32')\n",
        "        # rescale values\n",
        "        self.x_train /= 255.0\n",
        "        self.x_test /= 255.0\n",
        "        # Save dataset sizes\n",
        "        self.train_size = self.x_train.shape[0]\n",
        "        self.test_size = self.x_test.shape[0]\n",
        "        # Create one hot array\n",
        "        self.y_train = to_categorical(self.y_train, 10)\n",
        "        self.y_test = to_categorical(self.y_test, 10)\n",
        "    def data_augmentation(self, augment_size=5000):\n",
        "        image_generator = ImageDataGenerator(\n",
        "            rotation_range=10,\n",
        "            zoom_range = 0.05,\n",
        "            width_shift_range=0.05,\n",
        "            height_shift_range=0.05,\n",
        "            horizontal_flip=False,\n",
        "            vertical_flip=False,\n",
        "            data_format=\"channels_last\",\n",
        "            zca_whitening=True)\n",
        "        # fit data for zca whitening\n",
        "        image_generator.fit(self.x_train, augment=True)\n",
        "        # get transformed images\n",
        "        randidx = np.random.randint(self.train_size, size=augment_size)\n",
        "        x_augmented = self.x_train[randidx].copy()\n",
        "        y_augmented = self.y_train[randidx].copy()\n",
        "        x_augmented = image_generator.flow(x_augmented, np.zeros(augment_size),\n",
        "                                    batch_size=augment_size, shuffle=False).next()[0]\n",
        "        # append augmented data to trainset\n",
        "        self.x_train = np.concatenate((self.x_train, x_augmented))\n",
        "        self.y_train = np.concatenate((self.y_train, y_augmented))\n",
        "        self.train_size = self.x_train.shape[0]\n",
        "        self.test_size = self.x_test.shape[0]\n",
        "\n",
        "\n",
        "    def next_train_batch(self, batch_size):\n",
        "        randidx = np.random.randint(self.train_size, size=batch_size)\n",
        "        epoch_x = self.x_train[randidx]\n",
        "        epoch_y = self.y_train[randidx]\n",
        "        return epoch_x, epoch_y\n",
        "\n",
        "    def next_test_batch(self, batch_size):\n",
        "        randidx = np.random.randint(self.test_size, size=batch_size)\n",
        "        epoch_x = self.x_test[randidx]\n",
        "        epoch_y = self.y_test[randidx]\n",
        "        return epoch_x, epoch_y\n",
        "\n",
        "    def shuffle_train(self):\n",
        "        indices = np.random.permutation(self.train_size)\n",
        "        self.x_train = self.x_train[indices]\n",
        "        self.y_train = self.y_train[indices]"
      ],
      "execution_count": 0,
      "outputs": []
    },
    {
      "cell_type": "code",
      "metadata": {
        "id": "YEd8rs9PxK-4",
        "colab_type": "code",
        "colab": {}
      },
      "source": [
        "from keras.models import Sequential, load_model\n",
        "from keras.layers.core import Dense, Dropout, Activation\n",
        "from keras.utils import np_utils"
      ],
      "execution_count": 0,
      "outputs": []
    },
    {
      "cell_type": "code",
      "metadata": {
        "id": "JckrqwZZFgLF",
        "colab_type": "code",
        "outputId": "865596dc-188f-4c16-b501-207b1636b7db",
        "colab": {
          "base_uri": "https://localhost:8080/",
          "height": 173
        }
      },
      "source": [
        "model = DataAugmentation()\n",
        "print('Previous train images: ',model.train_size)\n",
        "print('Previous train images: ',model.test_size)\n",
        "\n",
        "model.data_augmentation(augment_size = 1000)\n",
        "print('After train images: ',model.train_size)\n",
        "print('After train images: ',model.test_size)"
      ],
      "execution_count": 21,
      "outputs": [
        {
          "output_type": "stream",
          "text": [
            "Downloading data from https://s3.amazonaws.com/img-datasets/mnist.npz\n",
            "11493376/11490434 [==============================] - 0s 0us/step\n",
            "Previous train images:  60000\n",
            "Previous train images:  10000\n"
          ],
          "name": "stdout"
        },
        {
          "output_type": "stream",
          "text": [
            "/usr/local/lib/python3.6/dist-packages/keras_preprocessing/image/image_data_generator.py:336: UserWarning: This ImageDataGenerator specifies `zca_whitening`, which overrides setting of `featurewise_center`.\n",
            "  warnings.warn('This ImageDataGenerator specifies '\n"
          ],
          "name": "stderr"
        },
        {
          "output_type": "stream",
          "text": [
            "After train images:  61000\n",
            "After train images:  10000\n"
          ],
          "name": "stdout"
        }
      ]
    },
    {
      "cell_type": "code",
      "metadata": {
        "id": "8FRQ_YvgzXJv",
        "colab_type": "code",
        "colab": {
          "base_uri": "https://localhost:8080/",
          "height": 119
        },
        "outputId": "c13aad59-4b99-4e78-d1da-f68a5b00c654"
      },
      "source": [
        "# let's print the shape before we reshape and normalize\n",
        "print(\"X_train shape\", model.x_train.shape)\n",
        "print(\"y_train shape\", model.y_train.shape)\n",
        "print(\"X_test shape\", model.x_test.shape)\n",
        "print(\"y_test shape\", model.y_test.shape)\n",
        "\n",
        "# building the input vector from the 28x28 pixels\n",
        "model.x_train = model.x_train.reshape(61000, 784)\n",
        "model.x_test = model.x_test.reshape(10000, 784)\n",
        "model.x_train = model.x_train.astype('float32')\n",
        "model.x_test = model.x_test.astype('float32')\n",
        "\n",
        "# normalizing the data to help with the training\n",
        "model.x_train /= 255\n",
        "model.x_test /= 255\n",
        "\n",
        "# print the final input shape ready for training\n",
        "print(\"Train matrix shape\", model.x_train.shape)\n",
        "print(\"Test matrix shape\", model.x_test.shape)"
      ],
      "execution_count": 22,
      "outputs": [
        {
          "output_type": "stream",
          "text": [
            "X_train shape (61000, 28, 28, 1)\n",
            "y_train shape (61000, 10)\n",
            "X_test shape (10000, 28, 28, 1)\n",
            "y_test shape (10000, 10)\n",
            "Train matrix shape (61000, 784)\n",
            "Test matrix shape (10000, 784)\n"
          ],
          "name": "stdout"
        }
      ]
    },
    {
      "cell_type": "code",
      "metadata": {
        "id": "7o9viFCB1UDG",
        "colab_type": "code",
        "colab": {
          "base_uri": "https://localhost:8080/",
          "height": 1000
        },
        "outputId": "8eca5c0e-49f5-4122-f5ab-1f2da89c595c"
      },
      "source": [
        "  X_train = model.x_train\n",
        "  Y_train = model.y_train\n",
        "  X_test = model.x_test\n",
        "  Y_test = model.y_test\n",
        "  \n",
        "  dropout = 0.2\n",
        "  model = Sequential()\n",
        "  model.add(Dense(512, input_shape=(784,)))\n",
        "  model.add(Activation('relu'))                            \n",
        "  model.add(Dropout(dropout))\n",
        "\n",
        "  model.add(Dense(512))\n",
        "  model.add(Activation('relu'))\n",
        "  model.add(Dropout(dropout))\n",
        "\n",
        "  model.add(Dense(10))\n",
        "  model.add(Activation('softmax'))\n",
        "\n",
        "  model.compile(loss='categorical_crossentropy', metrics=['accuracy'], optimizer='adam')\n",
        "  history = model.fit(X_train, Y_train,\n",
        "          batch_size=128, epochs=20,\n",
        "          verbose=2,\n",
        "          validation_data=(X_test, Y_test))"
      ],
      "execution_count": 27,
      "outputs": [
        {
          "output_type": "stream",
          "text": [
            "WARNING:tensorflow:From /usr/local/lib/python3.6/dist-packages/keras/backend/tensorflow_backend.py:66: The name tf.get_default_graph is deprecated. Please use tf.compat.v1.get_default_graph instead.\n",
            "\n",
            "WARNING:tensorflow:From /usr/local/lib/python3.6/dist-packages/keras/backend/tensorflow_backend.py:541: The name tf.placeholder is deprecated. Please use tf.compat.v1.placeholder instead.\n",
            "\n",
            "WARNING:tensorflow:From /usr/local/lib/python3.6/dist-packages/keras/backend/tensorflow_backend.py:4432: The name tf.random_uniform is deprecated. Please use tf.random.uniform instead.\n",
            "\n",
            "WARNING:tensorflow:From /usr/local/lib/python3.6/dist-packages/keras/backend/tensorflow_backend.py:148: The name tf.placeholder_with_default is deprecated. Please use tf.compat.v1.placeholder_with_default instead.\n",
            "\n",
            "WARNING:tensorflow:From /usr/local/lib/python3.6/dist-packages/keras/backend/tensorflow_backend.py:3733: calling dropout (from tensorflow.python.ops.nn_ops) with keep_prob is deprecated and will be removed in a future version.\n",
            "Instructions for updating:\n",
            "Please use `rate` instead of `keep_prob`. Rate should be set to `rate = 1 - keep_prob`.\n",
            "WARNING:tensorflow:From /usr/local/lib/python3.6/dist-packages/keras/optimizers.py:793: The name tf.train.Optimizer is deprecated. Please use tf.compat.v1.train.Optimizer instead.\n",
            "\n",
            "WARNING:tensorflow:From /usr/local/lib/python3.6/dist-packages/keras/backend/tensorflow_backend.py:3576: The name tf.log is deprecated. Please use tf.math.log instead.\n",
            "\n",
            "WARNING:tensorflow:From /usr/local/lib/python3.6/dist-packages/tensorflow_core/python/ops/math_grad.py:1424: where (from tensorflow.python.ops.array_ops) is deprecated and will be removed in a future version.\n",
            "Instructions for updating:\n",
            "Use tf.where in 2.0, which has the same broadcast rule as np.where\n",
            "WARNING:tensorflow:From /usr/local/lib/python3.6/dist-packages/keras/backend/tensorflow_backend.py:1033: The name tf.assign_add is deprecated. Please use tf.compat.v1.assign_add instead.\n",
            "\n",
            "WARNING:tensorflow:From /usr/local/lib/python3.6/dist-packages/keras/backend/tensorflow_backend.py:1020: The name tf.assign is deprecated. Please use tf.compat.v1.assign instead.\n",
            "\n",
            "WARNING:tensorflow:From /usr/local/lib/python3.6/dist-packages/keras/backend/tensorflow_backend.py:3005: The name tf.Session is deprecated. Please use tf.compat.v1.Session instead.\n",
            "\n",
            "Train on 61000 samples, validate on 10000 samples\n",
            "Epoch 1/20\n",
            "WARNING:tensorflow:From /usr/local/lib/python3.6/dist-packages/keras/backend/tensorflow_backend.py:190: The name tf.get_default_session is deprecated. Please use tf.compat.v1.get_default_session instead.\n",
            "\n",
            "WARNING:tensorflow:From /usr/local/lib/python3.6/dist-packages/keras/backend/tensorflow_backend.py:197: The name tf.ConfigProto is deprecated. Please use tf.compat.v1.ConfigProto instead.\n",
            "\n",
            "WARNING:tensorflow:From /usr/local/lib/python3.6/dist-packages/keras/backend/tensorflow_backend.py:207: The name tf.global_variables is deprecated. Please use tf.compat.v1.global_variables instead.\n",
            "\n",
            "WARNING:tensorflow:From /usr/local/lib/python3.6/dist-packages/keras/backend/tensorflow_backend.py:216: The name tf.is_variable_initialized is deprecated. Please use tf.compat.v1.is_variable_initialized instead.\n",
            "\n",
            "WARNING:tensorflow:From /usr/local/lib/python3.6/dist-packages/keras/backend/tensorflow_backend.py:223: The name tf.variables_initializer is deprecated. Please use tf.compat.v1.variables_initializer instead.\n",
            "\n",
            " - 9s - loss: 0.8173 - acc: 0.7544 - val_loss: 0.3604 - val_acc: 0.8938\n",
            "Epoch 2/20\n",
            " - 8s - loss: 0.3524 - acc: 0.8970 - val_loss: 0.2714 - val_acc: 0.9221\n",
            "Epoch 3/20\n",
            " - 8s - loss: 0.2767 - acc: 0.9178 - val_loss: 0.2162 - val_acc: 0.9365\n",
            "Epoch 4/20\n",
            " - 8s - loss: 0.2228 - acc: 0.9346 - val_loss: 0.1800 - val_acc: 0.9457\n",
            "Epoch 5/20\n",
            " - 8s - loss: 0.1827 - acc: 0.9448 - val_loss: 0.1497 - val_acc: 0.9552\n",
            "Epoch 6/20\n",
            " - 8s - loss: 0.1557 - acc: 0.9534 - val_loss: 0.1292 - val_acc: 0.9587\n",
            "Epoch 7/20\n",
            " - 8s - loss: 0.1358 - acc: 0.9597 - val_loss: 0.1150 - val_acc: 0.9636\n",
            "Epoch 8/20\n",
            " - 8s - loss: 0.1194 - acc: 0.9642 - val_loss: 0.1061 - val_acc: 0.9676\n",
            "Epoch 9/20\n",
            " - 8s - loss: 0.1056 - acc: 0.9682 - val_loss: 0.0930 - val_acc: 0.9707\n",
            "Epoch 10/20\n",
            " - 8s - loss: 0.0960 - acc: 0.9713 - val_loss: 0.0896 - val_acc: 0.9725\n",
            "Epoch 11/20\n",
            " - 8s - loss: 0.0870 - acc: 0.9731 - val_loss: 0.0858 - val_acc: 0.9726\n",
            "Epoch 12/20\n",
            " - 8s - loss: 0.0793 - acc: 0.9758 - val_loss: 0.0904 - val_acc: 0.9711\n",
            "Epoch 13/20\n",
            " - 8s - loss: 0.0719 - acc: 0.9778 - val_loss: 0.0745 - val_acc: 0.9763\n",
            "Epoch 14/20\n",
            " - 8s - loss: 0.0662 - acc: 0.9798 - val_loss: 0.0712 - val_acc: 0.9781\n",
            "Epoch 15/20\n",
            " - 8s - loss: 0.0617 - acc: 0.9806 - val_loss: 0.0708 - val_acc: 0.9775\n",
            "Epoch 16/20\n",
            " - 8s - loss: 0.0575 - acc: 0.9824 - val_loss: 0.0715 - val_acc: 0.9776\n",
            "Epoch 17/20\n",
            " - 8s - loss: 0.0525 - acc: 0.9834 - val_loss: 0.0698 - val_acc: 0.9777\n",
            "Epoch 18/20\n",
            " - 8s - loss: 0.0496 - acc: 0.9845 - val_loss: 0.0632 - val_acc: 0.9805\n",
            "Epoch 19/20\n",
            " - 8s - loss: 0.0465 - acc: 0.9846 - val_loss: 0.0706 - val_acc: 0.9784\n",
            "Epoch 20/20\n",
            " - 8s - loss: 0.0429 - acc: 0.9863 - val_loss: 0.0632 - val_acc: 0.9806\n"
          ],
          "name": "stdout"
        }
      ]
    },
    {
      "cell_type": "code",
      "metadata": {
        "id": "r5I0POhl1KOR",
        "colab_type": "code",
        "colab": {}
      },
      "source": [
        ""
      ],
      "execution_count": 0,
      "outputs": []
    },
    {
      "cell_type": "code",
      "metadata": {
        "id": "ySNS6j4vGrt6",
        "colab_type": "code",
        "outputId": "4fabcf4b-dcdd-4e1f-f72a-1075045ec3b4",
        "colab": {
          "base_uri": "https://localhost:8080/",
          "height": 577
        }
      },
      "source": [
        "# plotting the metrics\n",
        "fig = plt.figure()\n",
        "plt.subplot(2,1,1)\n",
        "plt.plot(history.history['acc'])\n",
        "plt.plot(history.history['val_acc'])\n",
        "plt.title('model accuracy')\n",
        "plt.ylabel('accuracy')\n",
        "plt.xlabel('epoch')\n",
        "plt.legend(['train', 'test'], loc='lower right')\n",
        "\n",
        "plt.subplot(2,1,2)\n",
        "plt.plot(history.history['loss'])\n",
        "plt.plot(history.history['val_loss'])\n",
        "plt.title('model loss')\n",
        "plt.ylabel('loss')\n",
        "plt.xlabel('epoch')\n",
        "plt.legend(['train', 'test'], loc='upper right')\n",
        "\n",
        "plt.tight_layout()\n",
        "\n",
        "fig"
      ],
      "execution_count": 28,
      "outputs": [
        {
          "output_type": "execute_result",
          "data": {
            "image/png": "[encoded data removed]",
            "text/plain": [
              "<Figure size 432x288 with 2 Axes>"
            ]
          },
          "metadata": {
            "tags": []
          },
          "execution_count": 28
        },
        {
          "output_type": "display_data",
          "data": {
            "image/png": "[encoded data removed]",
            "text/plain": [
              "<Figure size 432x288 with 2 Axes>"
            ]
          },
          "metadata": {
            "tags": []
          }
        }
      ]
    },
    {
      "cell_type": "markdown",
      "metadata": {
        "id": "6mqkUUP9IKV-",
        "colab_type": "text"
      },
      "source": [
        "# Dropout "
      ]
    },
    {
      "cell_type": "code",
      "metadata": {
        "id": "5xh3uIB0wkpZ",
        "colab_type": "code",
        "colab": {}
      },
      "source": [
        "(X_train, y_train), (X_test, y_test) = mnist.load_data()"
      ],
      "execution_count": 0,
      "outputs": []
    },
    {
      "cell_type": "code",
      "metadata": {
        "id": "xgay4tuLwlsX",
        "colab_type": "code",
        "colab": {
          "base_uri": "https://localhost:8080/",
          "height": 551
        },
        "outputId": "0a0e6d0a-5aa2-440a-c6d7-e48524caa53d"
      },
      "source": [
        "fig = plt.figure()\n",
        "for i in range(9):\n",
        "  plt.subplot(3,3,i+1)\n",
        "  plt.tight_layout()\n",
        "  plt.imshow(X_train[i], cmap='gray', interpolation='none')\n",
        "  plt.title(\"Digit: {}\".format(y_train[i]))\n",
        "  plt.xticks([])\n",
        "  plt.yticks([])\n",
        "fig"
      ],
      "execution_count": 30,
      "outputs": [
        {
          "output_type": "execute_result",
          "data": {
            "image/png": "[encoded data removed]",
            "text/plain": [
              "<Figure size 432x288 with 9 Axes>"
            ]
          },
          "metadata": {
            "tags": []
          },
          "execution_count": 30
        },
        {
          "output_type": "display_data",
          "data": {
            "image/png": "[encoded data removed]",
            "text/plain": [
              "<Figure size 432x288 with 9 Axes>"
            ]
          },
          "metadata": {
            "tags": []
          }
        }
      ]
    },
    {
      "cell_type": "code",
      "metadata": {
        "id": "cLKYvBLJw4EA",
        "colab_type": "code",
        "colab": {
          "base_uri": "https://localhost:8080/",
          "height": 119
        },
        "outputId": "5ff9be04-5cfe-4e3f-dc90-3f2bc98d2b9f"
      },
      "source": [
        "# let's print the shape before we reshape and normalize\n",
        "print(\"X_train shape\", X_train.shape)\n",
        "print(\"y_train shape\", y_train.shape)\n",
        "print(\"X_test shape\", X_test.shape)\n",
        "print(\"y_test shape\", y_test.shape)\n",
        "\n",
        "# building the input vector from the 28x28 pixels\n",
        "X_train = X_train.reshape(60000, 784)\n",
        "X_test = X_test.reshape(10000, 784)\n",
        "X_train = X_train.astype('float32')\n",
        "X_test = X_test.astype('float32')\n",
        "\n",
        "# normalizing the data to help with the training\n",
        "X_train /= 255\n",
        "X_test /= 255\n",
        "\n",
        "# print the final input shape ready for training\n",
        "print(\"Train matrix shape\", X_train.shape)\n",
        "print(\"Test matrix shape\", X_test.shape)"
      ],
      "execution_count": 31,
      "outputs": [
        {
          "output_type": "stream",
          "text": [
            "X_train shape (60000, 28, 28)\n",
            "y_train shape (60000,)\n",
            "X_test shape (10000, 28, 28)\n",
            "y_test shape (10000,)\n",
            "Train matrix shape (60000, 784)\n",
            "Test matrix shape (10000, 784)\n"
          ],
          "name": "stdout"
        }
      ]
    },
    {
      "cell_type": "code",
      "metadata": {
        "id": "gk4vt4-1xDS3",
        "colab_type": "code",
        "colab": {
          "base_uri": "https://localhost:8080/",
          "height": 51
        },
        "outputId": "cab761ed-bcf6-49c9-b931-5394a8a4b21e"
      },
      "source": [
        "# one-hot encoding using keras' numpy-related utilities\n",
        "n_classes = 10\n",
        "print(\"Shape before one-hot encoding: \", y_train.shape)\n",
        "Y_train = np_utils.to_categorical(y_train, n_classes)\n",
        "Y_test = np_utils.to_categorical(y_test, n_classes)\n",
        "print(\"Shape after one-hot encoding: \", Y_train.shape)"
      ],
      "execution_count": 32,
      "outputs": [
        {
          "output_type": "stream",
          "text": [
            "Shape before one-hot encoding:  (60000,)\n",
            "Shape after one-hot encoding:  (60000, 10)\n"
          ],
          "name": "stdout"
        }
      ]
    },
    {
      "cell_type": "code",
      "metadata": {
        "id": "cucHLWRPxNKj",
        "colab_type": "code",
        "colab": {}
      },
      "source": [
        "  dropout = 0.2\n",
        "  model = Sequential()\n",
        "  model.add(Dense(512, input_shape=(784,)))\n",
        "  model.add(Activation('relu'))                            \n",
        "  model.add(Dropout(dropout))\n",
        "\n",
        "  model.add(Dense(512))\n",
        "  model.add(Activation('relu'))\n",
        "  model.add(Dropout(dropout))\n",
        "\n",
        "  model.add(Dense(10))\n",
        "  model.add(Activation('softmax'))\n",
        "\n",
        "  model.compile(loss='categorical_crossentropy', metrics=['accuracy'], optimizer='adam')\n",
        " \n",
        "  \n"
      ],
      "execution_count": 0,
      "outputs": []
    },
    {
      "cell_type": "code",
      "metadata": {
        "id": "H9cjy4wCxd-t",
        "colab_type": "code",
        "colab": {
          "base_uri": "https://localhost:8080/",
          "height": 1000
        },
        "outputId": "0b9b1c09-5498-4ee2-db62-7c361f968de2"
      },
      "source": [
        "history = model.fit(X_train, Y_train,\n",
        "          batch_size=128, epochs=20,\n",
        "          verbose=2,\n",
        "          validation_data=(X_test, Y_test))\n",
        "# plotting the metrics\n",
        "fig = plt.figure()\n",
        "plt.subplot(2,1,1)\n",
        "plt.plot(history.history['acc'])\n",
        "plt.plot(history.history['val_acc'])\n",
        "plt.title('model accuracy')\n",
        "plt.ylabel('accuracy')\n",
        "plt.xlabel('epoch')\n",
        "plt.legend(['train', 'test'], loc='lower right')\n",
        "\n",
        "plt.subplot(2,1,2)\n",
        "plt.plot(history.history['loss'])\n",
        "plt.plot(history.history['val_loss'])\n",
        "plt.title('model loss')\n",
        "plt.ylabel('loss')\n",
        "plt.xlabel('epoch')\n",
        "plt.legend(['train', 'test'], loc='upper right')\n",
        "\n",
        "plt.tight_layout()\n",
        "\n",
        "fig"
      ],
      "execution_count": 34,
      "outputs": [
        {
          "output_type": "stream",
          "text": [
            "Train on 60000 samples, validate on 10000 samples\n",
            "Epoch 1/20\n",
            " - 8s - loss: 0.2500 - acc: 0.9242 - val_loss: 0.1132 - val_acc: 0.9648\n",
            "Epoch 2/20\n",
            " - 8s - loss: 0.1033 - acc: 0.9681 - val_loss: 0.0749 - val_acc: 0.9762\n",
            "Epoch 3/20\n",
            " - 8s - loss: 0.0705 - acc: 0.9777 - val_loss: 0.0703 - val_acc: 0.9771\n",
            "Epoch 4/20\n",
            " - 8s - loss: 0.0562 - acc: 0.9816 - val_loss: 0.0660 - val_acc: 0.9787\n",
            "Epoch 5/20\n",
            " - 8s - loss: 0.0474 - acc: 0.9850 - val_loss: 0.0613 - val_acc: 0.9796\n",
            "Epoch 6/20\n",
            " - 8s - loss: 0.0390 - acc: 0.9876 - val_loss: 0.0620 - val_acc: 0.9821\n",
            "Epoch 7/20\n",
            " - 8s - loss: 0.0329 - acc: 0.9893 - val_loss: 0.0542 - val_acc: 0.9837\n",
            "Epoch 8/20\n",
            " - 8s - loss: 0.0286 - acc: 0.9908 - val_loss: 0.0601 - val_acc: 0.9815\n",
            "Epoch 9/20\n",
            " - 8s - loss: 0.0269 - acc: 0.9909 - val_loss: 0.0662 - val_acc: 0.9812\n",
            "Epoch 10/20\n",
            " - 8s - loss: 0.0271 - acc: 0.9907 - val_loss: 0.0584 - val_acc: 0.9830\n",
            "Epoch 11/20\n",
            " - 8s - loss: 0.0231 - acc: 0.9920 - val_loss: 0.0630 - val_acc: 0.9817\n",
            "Epoch 12/20\n",
            " - 8s - loss: 0.0212 - acc: 0.9927 - val_loss: 0.0828 - val_acc: 0.9807\n",
            "Epoch 13/20\n",
            " - 8s - loss: 0.0213 - acc: 0.9927 - val_loss: 0.0637 - val_acc: 0.9831\n",
            "Epoch 14/20\n",
            " - 8s - loss: 0.0183 - acc: 0.9940 - val_loss: 0.0684 - val_acc: 0.9841\n",
            "Epoch 15/20\n",
            " - 8s - loss: 0.0178 - acc: 0.9941 - val_loss: 0.0762 - val_acc: 0.9820\n",
            "Epoch 16/20\n",
            " - 8s - loss: 0.0174 - acc: 0.9941 - val_loss: 0.0750 - val_acc: 0.9838\n",
            "Epoch 17/20\n",
            " - 8s - loss: 0.0159 - acc: 0.9944 - val_loss: 0.0652 - val_acc: 0.9841\n",
            "Epoch 18/20\n",
            " - 8s - loss: 0.0182 - acc: 0.9936 - val_loss: 0.0700 - val_acc: 0.9855\n",
            "Epoch 19/20\n",
            " - 8s - loss: 0.0142 - acc: 0.9953 - val_loss: 0.0685 - val_acc: 0.9840\n",
            "Epoch 20/20\n",
            " - 8s - loss: 0.0168 - acc: 0.9946 - val_loss: 0.0780 - val_acc: 0.9834\n"
          ],
          "name": "stdout"
        },
        {
          "output_type": "execute_result",
          "data": {
            "image/png": "[encoded data removed]",
            "text/plain": [
              "<Figure size 432x288 with 2 Axes>"
            ]
          },
          "metadata": {
            "tags": []
          },
          "execution_count": 34
        },
        {
          "output_type": "display_data",
          "data": {
            "image/png": "[encoded data removed]",
            "text/plain": [
              "<Figure size 432x288 with 2 Axes>"
            ]
          },
          "metadata": {
            "tags": []
          }
        }
      ]
    },
    {
      "cell_type": "markdown",
      "metadata": {
        "id": "Q05uaIYovqkO",
        "colab_type": "text"
      },
      "source": [
        "## Trying different dropout for each layer "
      ]
    },
    {
      "cell_type": "code",
      "metadata": {
        "id": "Cl3cNB8wvu87",
        "colab_type": "code",
        "colab": {}
      },
      "source": [
        "  model = Sequential()\n",
        "  model.add(Dense(512, input_shape=(784,)))\n",
        "  model.add(Activation('relu'))                            \n",
        "  model.add(Dropout(0.2))\n",
        "\n",
        "  model.add(Dense(512))\n",
        "  model.add(Activation('relu'))\n",
        "  model.add(Dropout(0.3))\n",
        "\n",
        "  model.add(Dense(10))\n",
        "  model.add(Activation('softmax'))\n",
        "\n",
        "  model.compile(loss='categorical_crossentropy', metrics=['accuracy'], optimizer='adam')"
      ],
      "execution_count": 0,
      "outputs": []
    },
    {
      "cell_type": "code",
      "metadata": {
        "id": "hqxcRgXJv15D",
        "colab_type": "code",
        "colab": {
          "base_uri": "https://localhost:8080/",
          "height": 1000
        },
        "outputId": "d01ce84c-fe29-49c3-ee8b-503509bdb553"
      },
      "source": [
        "history = model.fit(X_train, Y_train,\n",
        "          batch_size=128, epochs=20,\n",
        "          verbose=2,\n",
        "          validation_data=(X_test, Y_test))\n",
        "# plotting the metrics\n",
        "fig = plt.figure()\n",
        "plt.subplot(2,1,1)\n",
        "plt.plot(history.history['acc'])\n",
        "plt.plot(history.history['val_acc'])\n",
        "plt.title('model accuracy')\n",
        "plt.ylabel('accuracy')\n",
        "plt.xlabel('epoch')\n",
        "plt.legend(['train', 'test'], loc='lower right')\n",
        "\n",
        "plt.subplot(2,1,2)\n",
        "plt.plot(history.history['loss'])\n",
        "plt.plot(history.history['val_loss'])\n",
        "plt.title('model loss')\n",
        "plt.ylabel('loss')\n",
        "plt.xlabel('epoch')\n",
        "plt.legend(['train', 'test'], loc='upper right')\n",
        "\n",
        "plt.tight_layout()\n",
        "\n",
        "fig"
      ],
      "execution_count": 38,
      "outputs": [
        {
          "output_type": "stream",
          "text": [
            "Train on 60000 samples, validate on 10000 samples\n",
            "Epoch 1/20\n",
            " - 9s - loss: 0.2553 - acc: 0.9229 - val_loss: 0.1083 - val_acc: 0.9667\n",
            "Epoch 2/20\n",
            " - 8s - loss: 0.1057 - acc: 0.9678 - val_loss: 0.0814 - val_acc: 0.9744\n",
            "Epoch 3/20\n",
            " - 8s - loss: 0.0758 - acc: 0.9760 - val_loss: 0.0744 - val_acc: 0.9778\n",
            "Epoch 4/20\n",
            " - 8s - loss: 0.0591 - acc: 0.9809 - val_loss: 0.0710 - val_acc: 0.9778\n",
            "Epoch 5/20\n",
            " - 8s - loss: 0.0470 - acc: 0.9847 - val_loss: 0.0646 - val_acc: 0.9812\n",
            "Epoch 6/20\n",
            " - 8s - loss: 0.0404 - acc: 0.9872 - val_loss: 0.0736 - val_acc: 0.9790\n",
            "Epoch 7/20\n",
            " - 8s - loss: 0.0339 - acc: 0.9886 - val_loss: 0.0632 - val_acc: 0.9805\n",
            "Epoch 8/20\n",
            " - 8s - loss: 0.0336 - acc: 0.9886 - val_loss: 0.0699 - val_acc: 0.9811\n",
            "Epoch 9/20\n",
            " - 8s - loss: 0.0310 - acc: 0.9897 - val_loss: 0.0668 - val_acc: 0.9813\n",
            "Epoch 10/20\n",
            " - 8s - loss: 0.0259 - acc: 0.9914 - val_loss: 0.0715 - val_acc: 0.9819\n",
            "Epoch 11/20\n",
            " - 8s - loss: 0.0254 - acc: 0.9920 - val_loss: 0.0769 - val_acc: 0.9815\n",
            "Epoch 12/20\n",
            " - 8s - loss: 0.0231 - acc: 0.9925 - val_loss: 0.0700 - val_acc: 0.9819\n",
            "Epoch 13/20\n",
            " - 8s - loss: 0.0216 - acc: 0.9926 - val_loss: 0.0739 - val_acc: 0.9819\n",
            "Epoch 14/20\n",
            " - 8s - loss: 0.0225 - acc: 0.9927 - val_loss: 0.0656 - val_acc: 0.9839\n",
            "Epoch 15/20\n",
            " - 8s - loss: 0.0200 - acc: 0.9935 - val_loss: 0.0713 - val_acc: 0.9824\n",
            "Epoch 16/20\n",
            " - 8s - loss: 0.0170 - acc: 0.9948 - val_loss: 0.0766 - val_acc: 0.9845\n",
            "Epoch 17/20\n",
            " - 8s - loss: 0.0190 - acc: 0.9941 - val_loss: 0.0638 - val_acc: 0.9857\n",
            "Epoch 18/20\n",
            " - 8s - loss: 0.0183 - acc: 0.9939 - val_loss: 0.0709 - val_acc: 0.9829\n",
            "Epoch 19/20\n",
            " - 8s - loss: 0.0166 - acc: 0.9948 - val_loss: 0.0691 - val_acc: 0.9842\n",
            "Epoch 20/20\n",
            " - 8s - loss: 0.0158 - acc: 0.9948 - val_loss: 0.0731 - val_acc: 0.9842\n"
          ],
          "name": "stdout"
        },
        {
          "output_type": "execute_result",
          "data": {
            "image/png": "[encoded data removed]",
            "text/plain": [
              "<Figure size 432x288 with 2 Axes>"
            ]
          },
          "metadata": {
            "tags": []
          },
          "execution_count": 38
        },
        {
          "output_type": "display_data",
          "data": {
            "image/png": "[encoded data removed]",
            "text/plain": [
              "<Figure size 432x288 with 2 Axes>"
            ]
          },
          "metadata": {
            "tags": []
          }
        }
      ]
    },
    {
      "cell_type": "markdown",
      "metadata": {
        "id": "vHICmDeCo3GP",
        "colab_type": "text"
      },
      "source": [
        "#Results Comparison"
      ]
    },
    {
      "cell_type": "markdown",
      "metadata": {
        "id": "12iUYNIXo7Q3",
        "colab_type": "text"
      },
      "source": [
        "Hyperparameter analysis\n",
        "\n",
        "1.   Mini-batch size of 16, 10 epochs for Learning rate 0.01 : accuracy 96.78%\n",
        "2.   Mini-batch size of 64, 10 epochs for Learning rate 0.001 : accuracy 96.17%\n",
        "3. Mini-batch size of 256, 20 epochs for Learning rate 0.01 : accuracy 96.99%\n",
        "4. Data Augmentation increasing data volume by 10%: accuracy 98.06%\n",
        "5. Dropout with equal dropout value for all layers : accuracy 98.34%\n",
        "6. Dropout with different dropout value for all layers : accuracy 98.42%\n",
        "\n"
      ]
    }
  ]
}